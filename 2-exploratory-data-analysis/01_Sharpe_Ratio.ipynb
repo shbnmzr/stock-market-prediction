{
 "cells": [
  {
   "cell_type": "code",
   "execution_count": 9,
   "outputs": [],
   "source": [
    "from financial_functions import *"
   ],
   "metadata": {
    "collapsed": false,
    "pycharm": {
     "name": "#%%\n"
    }
   }
  },
  {
   "cell_type": "markdown",
   "source": [
    "## Sharpe Ratio\n",
    "\n",
    "$$ SR = \\frac{E[R_{a}\\ -\\ R_{f}]}{\\sigma_{a}} $$\n",
    "$ SR\\ \\to\\ Sharpe\\ Ratio \\\\\n",
    "R_{a}\\ \\to\\ Asset\\ Return \\\\\n",
    "R_{f}\\ \\to\\ Risk\\ Free\\ Return \\\\\n",
    "\\sigma_{a}\\ \\to\\ Standard\\ Deviation\\ of\\ Asset\\ Return \\\\\n",
    "R_{f}\\ \\approx\\ 0 \\implies \\\\ $\n",
    "$$ SR = \\frac{E[R_{a}]}{\\sigma_{a}}\\ \\to\\ SR = \\frac{Mean\\ Asset\\ Return}{Standard\\ Deviation\\ of\\ Asset\\ Return} $$"
   ],
   "metadata": {
    "collapsed": false,
    "pycharm": {
     "name": "#%% md\n"
    }
   }
  },
  {
   "cell_type": "markdown",
   "source": [
    "## Probabilistic Sharpe Ratio"
   ],
   "metadata": {
    "collapsed": false,
    "pycharm": {
     "name": "#%% md\n"
    }
   }
  },
  {
   "cell_type": "code",
   "execution_count": 10,
   "outputs": [
    {
     "name": "stdout",
     "output_type": "stream",
     "text": [
      "<class 'pandas.core.frame.DataFrame'>\n",
      "DatetimeIndex: 1259 entries, 2017-08-14 to 2022-08-12\n",
      "Data columns (total 6 columns):\n",
      " #   Column     Non-Null Count  Dtype  \n",
      "---  ------     --------------  -----  \n",
      " 0   Adj Close  1259 non-null   float64\n",
      " 1   Close      1259 non-null   float64\n",
      " 2   High       1259 non-null   float64\n",
      " 3   Low        1259 non-null   float64\n",
      " 4   Open       1259 non-null   float64\n",
      " 5   Volume     1259 non-null   int64  \n",
      "dtypes: float64(5), int64(1)\n",
      "memory usage: 68.9 KB\n",
      "0.013146910124735286\n",
      "0.2134222957889208\n",
      "0.6813324903820817\n",
      "11.027551495685913\n"
     ]
    }
   ],
   "source": [
    "def main():\n",
    "    data = pd.read_csv('../data/historical/MACK.csv', index_col='Date', parse_dates=True)\n",
    "    data.info()\n",
    "    print(compute_sharpe_ratio(data))\n",
    "    print(compute_sharpe_ratio(data, duration='annual'))\n",
    "    print(compute_probabilistic_sharpe_ratio(data))\n",
    "    print(compute_probabilistic_sharpe_ratio(data, duration='annual'))\n",
    "\n",
    "if __name__ == '__main__':\n",
    "    main()"
   ],
   "metadata": {
    "collapsed": false,
    "pycharm": {
     "name": "#%%\n"
    }
   }
  },
  {
   "cell_type": "code",
   "execution_count": 10,
   "outputs": [],
   "source": [],
   "metadata": {
    "collapsed": false,
    "pycharm": {
     "name": "#%%\n"
    }
   }
  }
 ],
 "metadata": {
  "kernelspec": {
   "display_name": "Python 3",
   "language": "python",
   "name": "python3"
  },
  "language_info": {
   "codemirror_mode": {
    "name": "ipython",
    "version": 2
   },
   "file_extension": ".py",
   "mimetype": "text/x-python",
   "name": "python",
   "nbconvert_exporter": "python",
   "pygments_lexer": "ipython2",
   "version": "2.7.6"
  }
 },
 "nbformat": 4,
 "nbformat_minor": 0
}