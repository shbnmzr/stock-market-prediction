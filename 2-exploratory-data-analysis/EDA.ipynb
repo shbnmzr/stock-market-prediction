{
 "cells": [
  {
   "cell_type": "code",
   "execution_count": 2,
   "outputs": [],
   "source": [
    "from financial_functions import *\n",
    "from visualization_functions import *"
   ],
   "metadata": {
    "collapsed": false,
    "pycharm": {
     "name": "#%%\n"
    }
   }
  },
  {
   "cell_type": "markdown",
   "source": [
    "## Import Data"
   ],
   "metadata": {
    "collapsed": false,
    "pycharm": {
     "name": "#%% md\n"
    }
   }
  },
  {
   "cell_type": "code",
   "execution_count": 3,
   "outputs": [
    {
     "data": {
      "text/plain": "            Adj Close     Close       High       Low       Open  Volume\nDate                                                                   \n2017-08-14   6.471263  9.992132  10.149489  9.834776  10.070810  106713\n2017-08-15   6.369353  9.834776   9.992132  9.756098   9.992132  112471\n2017-08-16   6.471263  9.992132   9.992132  9.756098   9.913454  138869\n2017-08-17   6.318398  9.756098   9.992132  9.756098   9.913454   94397\n2017-08-18   6.114579  9.441385   9.834776  9.441385   9.677419  157134\n...               ...       ...        ...       ...        ...     ...\n2022-08-08   4.270000  4.270000   4.350000  4.210000   4.340000   19900\n2022-08-09   4.160000  4.160000   4.250000  4.060000   4.210000   16600\n2022-08-10   4.340000  4.340000   4.340000  4.070000   4.230000   53500\n2022-08-11   4.200000  4.200000   4.320000  4.170000   4.260000    9100\n2022-08-12   4.220000  4.220000   4.260000  4.180000   4.260000   13000\n\n[1259 rows x 6 columns]",
      "text/html": "<div>\n<style scoped>\n    .dataframe tbody tr th:only-of-type {\n        vertical-align: middle;\n    }\n\n    .dataframe tbody tr th {\n        vertical-align: top;\n    }\n\n    .dataframe thead th {\n        text-align: right;\n    }\n</style>\n<table border=\"1\" class=\"dataframe\">\n  <thead>\n    <tr style=\"text-align: right;\">\n      <th></th>\n      <th>Adj Close</th>\n      <th>Close</th>\n      <th>High</th>\n      <th>Low</th>\n      <th>Open</th>\n      <th>Volume</th>\n    </tr>\n    <tr>\n      <th>Date</th>\n      <th></th>\n      <th></th>\n      <th></th>\n      <th></th>\n      <th></th>\n      <th></th>\n    </tr>\n  </thead>\n  <tbody>\n    <tr>\n      <th>2017-08-14</th>\n      <td>6.471263</td>\n      <td>9.992132</td>\n      <td>10.149489</td>\n      <td>9.834776</td>\n      <td>10.070810</td>\n      <td>106713</td>\n    </tr>\n    <tr>\n      <th>2017-08-15</th>\n      <td>6.369353</td>\n      <td>9.834776</td>\n      <td>9.992132</td>\n      <td>9.756098</td>\n      <td>9.992132</td>\n      <td>112471</td>\n    </tr>\n    <tr>\n      <th>2017-08-16</th>\n      <td>6.471263</td>\n      <td>9.992132</td>\n      <td>9.992132</td>\n      <td>9.756098</td>\n      <td>9.913454</td>\n      <td>138869</td>\n    </tr>\n    <tr>\n      <th>2017-08-17</th>\n      <td>6.318398</td>\n      <td>9.756098</td>\n      <td>9.992132</td>\n      <td>9.756098</td>\n      <td>9.913454</td>\n      <td>94397</td>\n    </tr>\n    <tr>\n      <th>2017-08-18</th>\n      <td>6.114579</td>\n      <td>9.441385</td>\n      <td>9.834776</td>\n      <td>9.441385</td>\n      <td>9.677419</td>\n      <td>157134</td>\n    </tr>\n    <tr>\n      <th>...</th>\n      <td>...</td>\n      <td>...</td>\n      <td>...</td>\n      <td>...</td>\n      <td>...</td>\n      <td>...</td>\n    </tr>\n    <tr>\n      <th>2022-08-08</th>\n      <td>4.270000</td>\n      <td>4.270000</td>\n      <td>4.350000</td>\n      <td>4.210000</td>\n      <td>4.340000</td>\n      <td>19900</td>\n    </tr>\n    <tr>\n      <th>2022-08-09</th>\n      <td>4.160000</td>\n      <td>4.160000</td>\n      <td>4.250000</td>\n      <td>4.060000</td>\n      <td>4.210000</td>\n      <td>16600</td>\n    </tr>\n    <tr>\n      <th>2022-08-10</th>\n      <td>4.340000</td>\n      <td>4.340000</td>\n      <td>4.340000</td>\n      <td>4.070000</td>\n      <td>4.230000</td>\n      <td>53500</td>\n    </tr>\n    <tr>\n      <th>2022-08-11</th>\n      <td>4.200000</td>\n      <td>4.200000</td>\n      <td>4.320000</td>\n      <td>4.170000</td>\n      <td>4.260000</td>\n      <td>9100</td>\n    </tr>\n    <tr>\n      <th>2022-08-12</th>\n      <td>4.220000</td>\n      <td>4.220000</td>\n      <td>4.260000</td>\n      <td>4.180000</td>\n      <td>4.260000</td>\n      <td>13000</td>\n    </tr>\n  </tbody>\n</table>\n<p>1259 rows × 6 columns</p>\n</div>"
     },
     "execution_count": 3,
     "metadata": {},
     "output_type": "execute_result"
    }
   ],
   "source": [
    "path = '../data/historical/'\n",
    "data = import_single_file(path, symbol='MACK')\n",
    "data"
   ],
   "metadata": {
    "collapsed": false,
    "pycharm": {
     "name": "#%%\n"
    }
   }
  },
  {
   "cell_type": "code",
   "execution_count": null,
   "outputs": [],
   "source": [],
   "metadata": {
    "collapsed": false,
    "pycharm": {
     "name": "#%%\n"
    }
   }
  }
 ],
 "metadata": {
  "kernelspec": {
   "display_name": "Python 3",
   "language": "python",
   "name": "python3"
  },
  "language_info": {
   "codemirror_mode": {
    "name": "ipython",
    "version": 2
   },
   "file_extension": ".py",
   "mimetype": "text/x-python",
   "name": "python",
   "nbconvert_exporter": "python",
   "pygments_lexer": "ipython2",
   "version": "2.7.6"
  }
 },
 "nbformat": 4,
 "nbformat_minor": 0
}