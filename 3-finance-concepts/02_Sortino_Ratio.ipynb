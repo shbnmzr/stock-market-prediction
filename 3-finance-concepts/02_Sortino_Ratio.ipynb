{
 "cells": [
  {
   "cell_type": "code",
   "execution_count": 30,
   "outputs": [],
   "source": [
    "import pandas as pd\n",
    "import numpy as np"
   ],
   "metadata": {
    "collapsed": false,
    "pycharm": {
     "name": "#%%\n"
    }
   }
  },
  {
   "cell_type": "markdown",
   "source": [
    "## Sortino Ratio\n",
    "\n",
    "$$ Sortino Ratio = \\frac{Mean\\ Asset\\ Return}{Standard\\ Deviation\\ of\\ Downside\\ Return} $$"
   ],
   "metadata": {
    "collapsed": false,
    "pycharm": {
     "name": "#%% md\n"
    }
   }
  },
  {
   "cell_type": "code",
   "execution_count": 31,
   "outputs": [],
   "source": [
    "def compute_daily_return(data):\n",
    "    data['Daily Return'] = data['Adj Close'].pct_change(1)\n",
    "    data.dropna(inplace=True)\n",
    "    return data"
   ],
   "metadata": {
    "collapsed": false,
    "pycharm": {
     "name": "#%%\n"
    }
   }
  },
  {
   "cell_type": "code",
   "execution_count": 32,
   "outputs": [],
   "source": [
    "def compute_daily_sortino_ratio(data, threshold=0, risk_free=0):\n",
    "    daily_return = compute_daily_return(data)['Daily Return']\n",
    "    mean_return = daily_return.mean()\n",
    "    downsides = daily_return[daily_return < threshold]\n",
    "    std_return = downsides.std()\n",
    "\n",
    "    sartino_ratio = (mean_return - risk_free) / std_return\n",
    "    return sartino_ratio"
   ],
   "metadata": {
    "collapsed": false,
    "pycharm": {
     "name": "#%%\n"
    }
   }
  },
  {
   "cell_type": "code",
   "execution_count": 33,
   "outputs": [],
   "source": [
    "def compute_annual_sortino_ratio(data, threshold=0, risk_free=0):\n",
    "    daily_ratio = compute_daily_sortino_ratio(data, threshold, risk_free)\n",
    "    annual_ratio = daily_ratio * np.sqrt(252)\n",
    "    return annual_ratio"
   ],
   "metadata": {
    "collapsed": false,
    "pycharm": {
     "name": "#%%\n"
    }
   }
  },
  {
   "cell_type": "code",
   "execution_count": 34,
   "outputs": [
    {
     "name": "stdout",
     "output_type": "stream",
     "text": [
      "0.02133682505524598\n",
      "0.35962956731745943\n"
     ]
    }
   ],
   "source": [
    "def main():\n",
    "    data = pd.read_csv('../data/historical/APM.csv')\n",
    "    print(compute_daily_sortino_ratio(data))\n",
    "    print(compute_annual_sortino_ratio(data))\n",
    "    \n",
    "if __name__ == '__main__':\n",
    "    main()"
   ],
   "metadata": {
    "collapsed": false,
    "pycharm": {
     "name": "#%%\n"
    }
   }
  },
  {
   "cell_type": "code",
   "execution_count": 34,
   "outputs": [],
   "source": [],
   "metadata": {
    "collapsed": false,
    "pycharm": {
     "name": "#%%\n"
    }
   }
  }
 ],
 "metadata": {
  "kernelspec": {
   "display_name": "Python 3",
   "language": "python",
   "name": "python3"
  },
  "language_info": {
   "codemirror_mode": {
    "name": "ipython",
    "version": 2
   },
   "file_extension": ".py",
   "mimetype": "text/x-python",
   "name": "python",
   "nbconvert_exporter": "python",
   "pygments_lexer": "ipython2",
   "version": "2.7.6"
  }
 },
 "nbformat": 4,
 "nbformat_minor": 0
}