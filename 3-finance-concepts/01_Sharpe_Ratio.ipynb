{
 "cells": [
  {
   "cell_type": "code",
   "execution_count": 31,
   "outputs": [],
   "source": [
    "import pandas as pd\n",
    "import numpy as np"
   ],
   "metadata": {
    "collapsed": false,
    "pycharm": {
     "name": "#%%\n"
    }
   }
  },
  {
   "cell_type": "markdown",
   "source": [
    "## Sharpe Ratio\n",
    "\n",
    "$$ SR = \\frac{E[R_{a}\\ -\\ R_{f}]}{\\sigma_{a}} $$\n",
    "$ SR\\ \\to\\ Sharpe\\ Ratio \\\\\n",
    "R_{a}\\ \\to\\ Asset\\ Return \\\\\n",
    "R_{f}\\ \\to\\ Risk\\ Free\\ Return \\\\\n",
    "\\sigma_{a}\\ \\to\\ Standard\\ Deviation\\ of\\ Asset\\ Return \\\\\n",
    "R_{f}\\ \\approx\\ 0 \\implies \\\\ $\n",
    "$$ SR = \\frac{E[R_{a}]}{\\sigma_{a}}\\ \\to\\ SR = \\frac{Mean\\ Asset\\ Return}{Standard\\ Deviation\\ of\\ Asset\\ Return} $$"
   ],
   "metadata": {
    "collapsed": false,
    "pycharm": {
     "name": "#%% md\n"
    }
   }
  },
  {
   "cell_type": "code",
   "execution_count": 32,
   "outputs": [],
   "source": [
    "def compute_daily_return(data):\n",
    "    data['Daily Return'] = data['Adj Close'].pct_change(1)\n",
    "    data.dropna(inplace=True)\n",
    "    return data"
   ],
   "metadata": {
    "collapsed": false,
    "pycharm": {
     "name": "#%%\n"
    }
   }
  },
  {
   "cell_type": "code",
   "execution_count": 33,
   "outputs": [],
   "source": [
    "def compute_daily_sharpe_ratio(data, risk_free=0):\n",
    "    daily_return = compute_daily_return(data)['Daily Return']\n",
    "    mean_return = daily_return.mean()\n",
    "    std_return = daily_return.std()\n",
    "\n",
    "    sharpe_ratio = (mean_return - risk_free) / std_return\n",
    "    return sharpe_ratio"
   ],
   "metadata": {
    "collapsed": false,
    "pycharm": {
     "name": "#%%\n"
    }
   }
  },
  {
   "cell_type": "code",
   "execution_count": 34,
   "outputs": [],
   "source": [
    "def compute_annual_sharpe_ratio(data, risk_free=0):\n",
    "    daily_sharpe_ratio = compute_daily_sharpe_ratio(data, risk_free)\n",
    "    annual_sharpe_ratio = daily_sharpe_ratio * np.sqrt(252)\n",
    "    return annual_sharpe_ratio"
   ],
   "metadata": {
    "collapsed": false,
    "pycharm": {
     "name": "#%%\n"
    }
   }
  },
  {
   "cell_type": "code",
   "execution_count": 35,
   "outputs": [
    {
     "name": "stdout",
     "output_type": "stream",
     "text": [
      "<class 'pandas.core.frame.DataFrame'>\n",
      "DatetimeIndex: 1258 entries, 2017-08-09 to 2022-08-08\n",
      "Data columns (total 6 columns):\n",
      " #   Column     Non-Null Count  Dtype  \n",
      "---  ------     --------------  -----  \n",
      " 0   Adj Close  1258 non-null   float64\n",
      " 1   Close      1258 non-null   float64\n",
      " 2   High       1258 non-null   float64\n",
      " 3   Low        1258 non-null   float64\n",
      " 4   Open       1258 non-null   float64\n",
      " 5   Volume     1258 non-null   int64  \n",
      "dtypes: float64(5), int64(1)\n",
      "memory usage: 68.8 KB\n",
      "Date\n",
      "2017-08-10   -0.006494\n",
      "2017-08-11   -0.013072\n",
      "2017-08-14   -0.019868\n",
      "2017-08-15    0.094595\n",
      "2017-08-16    0.049383\n",
      "                ...   \n",
      "2022-08-02    0.002564\n",
      "2022-08-03    0.025575\n",
      "2022-08-04    0.062344\n",
      "2022-08-05   -0.014085\n",
      "2022-08-08   -0.042857\n",
      "Name: Daily Return, Length: 1257, dtype: float64\n",
      "-0.015199516659983323\n",
      "Date\n",
      "2017-08-11   -0.013072\n",
      "2017-08-14   -0.019868\n",
      "2017-08-15    0.094595\n",
      "2017-08-16    0.049383\n",
      "2017-08-17   -0.041176\n",
      "                ...   \n",
      "2022-08-02    0.002564\n",
      "2022-08-03    0.025575\n",
      "2022-08-04    0.062344\n",
      "2022-08-05   -0.014085\n",
      "2022-08-08   -0.042857\n",
      "Name: Daily Return, Length: 1256, dtype: float64\n",
      "-0.24013466281516047\n"
     ]
    }
   ],
   "source": [
    "def main():\n",
    "    data = pd.read_csv('../data/historical/ABEO.csv', index_col='Date', parse_dates=True)\n",
    "    data.info()\n",
    "    print(compute_daily_sharpe_ratio(data))\n",
    "    print(compute_annual_sharpe_ratio(data))\n",
    "\n",
    "if __name__ == '__main__':\n",
    "    main()"
   ],
   "metadata": {
    "collapsed": false,
    "pycharm": {
     "name": "#%%\n"
    }
   }
  },
  {
   "cell_type": "code",
   "execution_count": 35,
   "outputs": [],
   "source": [],
   "metadata": {
    "collapsed": false,
    "pycharm": {
     "name": "#%%\n"
    }
   }
  }
 ],
 "metadata": {
  "kernelspec": {
   "display_name": "Python 3",
   "language": "python",
   "name": "python3"
  },
  "language_info": {
   "codemirror_mode": {
    "name": "ipython",
    "version": 2
   },
   "file_extension": ".py",
   "mimetype": "text/x-python",
   "name": "python",
   "nbconvert_exporter": "python",
   "pygments_lexer": "ipython2",
   "version": "2.7.6"
  }
 },
 "nbformat": 4,
 "nbformat_minor": 0
}