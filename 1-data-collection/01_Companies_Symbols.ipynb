{
 "cells": [
  {
   "cell_type": "markdown",
   "id": "5d0d0634",
   "metadata": {
    "pycharm": {
     "name": "#%% md\n"
    }
   },
   "source": [
    "## Introduction\n",
    "This notebook aims to extract tickers of companies working in the **Biotechnology** industry. In order to do so, a dataset\n",
    "containing information about all the companies in the US Stock Market was used. This dataset categorizes companies into 69 industries, one of which is Biotechnology.\n",
    "\n",
    "[View Initial Dataset on Kaggle](https://www.kaggle.com/datasets/marketahead/all-us-stocks-tickers-company-info-logos)"
   ]
  },
  {
   "cell_type": "markdown",
   "id": "b815023e",
   "metadata": {
    "pycharm": {
     "name": "#%% md\n"
    }
   },
   "source": [
    "## Import Packages & Data"
   ]
  },
  {
   "cell_type": "code",
   "execution_count": 166,
   "id": "c6eccbb4",
   "metadata": {
    "pycharm": {
     "name": "#%%\n"
    }
   },
   "outputs": [],
   "source": [
    "import pandas as pd"
   ]
  },
  {
   "cell_type": "code",
   "execution_count": 167,
   "id": "22fae73e",
   "metadata": {
    "pycharm": {
     "name": "#%%\n"
    }
   },
   "outputs": [
    {
     "data": {
      "text/plain": "     ticker                     company name                   short name  \\\n0         A        Agilent Technologies Inc.                      Agilent   \n1        AA                Alcoa Corporation                        Alcoa   \n2      AABA                      Altaba Inc.                       Altaba   \n3       AAC                AAC Holdings Inc.                          AAC   \n4      AADR  AdvisorShares Dorsey Wright ADR  AdvisorShares Dorsey Wright   \n...     ...                              ...                          ...   \n6363    ZTS              Zoetis Inc. Class A                       Zoetis   \n6364   ZUMZ                      Zumiez Inc.                       Zumiez   \n6365    ZUO               Zuora Inc. Class A                        Zuora   \n6366   ZYME                   Zymeworks Inc.                    Zymeworks   \n6367   ZYNE     Zynerba Pharmaceuticals Inc.      Zynerba Pharmaceuticals   \n\n                            industry  \\\n0     Medical Diagnostics & Research   \n1                    Metals & Mining   \n2                   Asset Management   \n3              Health Care Providers   \n4                                NaN   \n...                              ...   \n6363              Drug Manufacturers   \n6364    Retail - Apparel & Specialty   \n6365            Application Software   \n6366                   Biotechnology   \n6367                   Biotechnology   \n\n                                            description  \\\n0     Agilent Technologies Inc is engaged in life sc...   \n1     Alcoa Corp is an integrated aluminum company. ...   \n2     Altaba Inc is an independent, non-diversified,...   \n3     AAC Holdings Inc provides inpatient and outpat...   \n4     The investment seeks long-term capital appreci...   \n...                                                 ...   \n6363  Zoetis Inc is a developer and manufacturer of ...   \n6364  Zumiez Inc is a multi-channel specialty retail...   \n6365  Zuora Inc provides cloud-based software on a s...   \n6366  Zymeworks Inc is a clinical-stage biopharmaceu...   \n6367  Zynerba Pharmaceuticals Inc together with its ...   \n\n                                      website      logo  \\\n0                      http://www.agilent.com     A.png   \n1                        http://www.alcoa.com    AA.png   \n2                       http://www.altaba.com  AABA.png   \n3     http://www.americanaddictioncenters.org       NaN   \n4                http://www.advisorshares.com  AADR.png   \n...                                       ...       ...   \n6363                    http://www.zoetis.com   ZTS.png   \n6364                    http://www.zumiez.com  ZUMZ.png   \n6365                    https://www.zuora.com   ZUO.png   \n6366                 http://www.zymeworks.com  ZYME.png   \n6367                   http://www.zynerba.com  ZYNE.png   \n\n                         ceo                 exchange    market cap  \\\n0        Michael R. McMullen  New York Stock Exchange  2.421807e+10   \n1     Roy Christopher Harvey  New York Stock Exchange  5.374967e+09   \n2        Thomas J. Mcinerney     Nasdaq Global Select  4.122368e+10   \n3      Michael T. Cartwright  New York Stock Exchange  6.372010e+07   \n4                        NaN                NYSE Arca  1.031612e+08   \n...                      ...                      ...           ...   \n6363        Juan Ramon Alaix  New York Stock Exchange  4.205627e+10   \n6364       Richard M. Brooks     Nasdaq Global Select  6.150368e+08   \n6365               Tien Tzuo  New York Stock Exchange  2.304595e+09   \n6366             Ali Tehrani  New York Stock Exchange  5.042878e+08   \n6367           Armando Anido     NASDAQ Global Market  9.994437e+07   \n\n                  sector               tag 1  \\\n0             Healthcare          Healthcare   \n1        Basic Materials     Basic Materials   \n2     Financial Services  Financial Services   \n3             Healthcare          Healthcare   \n4                    NaN                 NaN   \n...                  ...                 ...   \n6363          Healthcare          Healthcare   \n6364   Consumer Cyclical   Consumer Cyclical   \n6365          Technology          Technology   \n6366          Healthcare          Healthcare   \n6367          Healthcare          Healthcare   \n\n                                         tag 2                           tag 3  \n0                       Diagnostics & Research  Medical Diagnostics & Research  \n1                                     Aluminum                 Metals & Mining  \n2                             Asset Management                             NaN  \n3                                 Medical Care           Health Care Providers  \n4                                          NaN                             NaN  \n...                                        ...                             ...  \n6363  Drug Manufacturers - Specialty & Generic              Drug Manufacturers  \n6364                          Specialty Retail    Retail - Apparel & Specialty  \n6365                 Software - Infrastructure            Application Software  \n6366                             Biotechnology                             NaN  \n6367                             Biotechnology                             NaN  \n\n[6368 rows x 14 columns]",
      "text/html": "<div>\n<style scoped>\n    .dataframe tbody tr th:only-of-type {\n        vertical-align: middle;\n    }\n\n    .dataframe tbody tr th {\n        vertical-align: top;\n    }\n\n    .dataframe thead th {\n        text-align: right;\n    }\n</style>\n<table border=\"1\" class=\"dataframe\">\n  <thead>\n    <tr style=\"text-align: right;\">\n      <th></th>\n      <th>ticker</th>\n      <th>company name</th>\n      <th>short name</th>\n      <th>industry</th>\n      <th>description</th>\n      <th>website</th>\n      <th>logo</th>\n      <th>ceo</th>\n      <th>exchange</th>\n      <th>market cap</th>\n      <th>sector</th>\n      <th>tag 1</th>\n      <th>tag 2</th>\n      <th>tag 3</th>\n    </tr>\n  </thead>\n  <tbody>\n    <tr>\n      <th>0</th>\n      <td>A</td>\n      <td>Agilent Technologies Inc.</td>\n      <td>Agilent</td>\n      <td>Medical Diagnostics &amp; Research</td>\n      <td>Agilent Technologies Inc is engaged in life sc...</td>\n      <td>http://www.agilent.com</td>\n      <td>A.png</td>\n      <td>Michael R. McMullen</td>\n      <td>New York Stock Exchange</td>\n      <td>2.421807e+10</td>\n      <td>Healthcare</td>\n      <td>Healthcare</td>\n      <td>Diagnostics &amp; Research</td>\n      <td>Medical Diagnostics &amp; Research</td>\n    </tr>\n    <tr>\n      <th>1</th>\n      <td>AA</td>\n      <td>Alcoa Corporation</td>\n      <td>Alcoa</td>\n      <td>Metals &amp; Mining</td>\n      <td>Alcoa Corp is an integrated aluminum company. ...</td>\n      <td>http://www.alcoa.com</td>\n      <td>AA.png</td>\n      <td>Roy Christopher Harvey</td>\n      <td>New York Stock Exchange</td>\n      <td>5.374967e+09</td>\n      <td>Basic Materials</td>\n      <td>Basic Materials</td>\n      <td>Aluminum</td>\n      <td>Metals &amp; Mining</td>\n    </tr>\n    <tr>\n      <th>2</th>\n      <td>AABA</td>\n      <td>Altaba Inc.</td>\n      <td>Altaba</td>\n      <td>Asset Management</td>\n      <td>Altaba Inc is an independent, non-diversified,...</td>\n      <td>http://www.altaba.com</td>\n      <td>AABA.png</td>\n      <td>Thomas J. Mcinerney</td>\n      <td>Nasdaq Global Select</td>\n      <td>4.122368e+10</td>\n      <td>Financial Services</td>\n      <td>Financial Services</td>\n      <td>Asset Management</td>\n      <td>NaN</td>\n    </tr>\n    <tr>\n      <th>3</th>\n      <td>AAC</td>\n      <td>AAC Holdings Inc.</td>\n      <td>AAC</td>\n      <td>Health Care Providers</td>\n      <td>AAC Holdings Inc provides inpatient and outpat...</td>\n      <td>http://www.americanaddictioncenters.org</td>\n      <td>NaN</td>\n      <td>Michael T. Cartwright</td>\n      <td>New York Stock Exchange</td>\n      <td>6.372010e+07</td>\n      <td>Healthcare</td>\n      <td>Healthcare</td>\n      <td>Medical Care</td>\n      <td>Health Care Providers</td>\n    </tr>\n    <tr>\n      <th>4</th>\n      <td>AADR</td>\n      <td>AdvisorShares Dorsey Wright ADR</td>\n      <td>AdvisorShares Dorsey Wright</td>\n      <td>NaN</td>\n      <td>The investment seeks long-term capital appreci...</td>\n      <td>http://www.advisorshares.com</td>\n      <td>AADR.png</td>\n      <td>NaN</td>\n      <td>NYSE Arca</td>\n      <td>1.031612e+08</td>\n      <td>NaN</td>\n      <td>NaN</td>\n      <td>NaN</td>\n      <td>NaN</td>\n    </tr>\n    <tr>\n      <th>...</th>\n      <td>...</td>\n      <td>...</td>\n      <td>...</td>\n      <td>...</td>\n      <td>...</td>\n      <td>...</td>\n      <td>...</td>\n      <td>...</td>\n      <td>...</td>\n      <td>...</td>\n      <td>...</td>\n      <td>...</td>\n      <td>...</td>\n      <td>...</td>\n    </tr>\n    <tr>\n      <th>6363</th>\n      <td>ZTS</td>\n      <td>Zoetis Inc. Class A</td>\n      <td>Zoetis</td>\n      <td>Drug Manufacturers</td>\n      <td>Zoetis Inc is a developer and manufacturer of ...</td>\n      <td>http://www.zoetis.com</td>\n      <td>ZTS.png</td>\n      <td>Juan Ramon Alaix</td>\n      <td>New York Stock Exchange</td>\n      <td>4.205627e+10</td>\n      <td>Healthcare</td>\n      <td>Healthcare</td>\n      <td>Drug Manufacturers - Specialty &amp; Generic</td>\n      <td>Drug Manufacturers</td>\n    </tr>\n    <tr>\n      <th>6364</th>\n      <td>ZUMZ</td>\n      <td>Zumiez Inc.</td>\n      <td>Zumiez</td>\n      <td>Retail - Apparel &amp; Specialty</td>\n      <td>Zumiez Inc is a multi-channel specialty retail...</td>\n      <td>http://www.zumiez.com</td>\n      <td>ZUMZ.png</td>\n      <td>Richard M. Brooks</td>\n      <td>Nasdaq Global Select</td>\n      <td>6.150368e+08</td>\n      <td>Consumer Cyclical</td>\n      <td>Consumer Cyclical</td>\n      <td>Specialty Retail</td>\n      <td>Retail - Apparel &amp; Specialty</td>\n    </tr>\n    <tr>\n      <th>6365</th>\n      <td>ZUO</td>\n      <td>Zuora Inc. Class A</td>\n      <td>Zuora</td>\n      <td>Application Software</td>\n      <td>Zuora Inc provides cloud-based software on a s...</td>\n      <td>https://www.zuora.com</td>\n      <td>ZUO.png</td>\n      <td>Tien Tzuo</td>\n      <td>New York Stock Exchange</td>\n      <td>2.304595e+09</td>\n      <td>Technology</td>\n      <td>Technology</td>\n      <td>Software - Infrastructure</td>\n      <td>Application Software</td>\n    </tr>\n    <tr>\n      <th>6366</th>\n      <td>ZYME</td>\n      <td>Zymeworks Inc.</td>\n      <td>Zymeworks</td>\n      <td>Biotechnology</td>\n      <td>Zymeworks Inc is a clinical-stage biopharmaceu...</td>\n      <td>http://www.zymeworks.com</td>\n      <td>ZYME.png</td>\n      <td>Ali Tehrani</td>\n      <td>New York Stock Exchange</td>\n      <td>5.042878e+08</td>\n      <td>Healthcare</td>\n      <td>Healthcare</td>\n      <td>Biotechnology</td>\n      <td>NaN</td>\n    </tr>\n    <tr>\n      <th>6367</th>\n      <td>ZYNE</td>\n      <td>Zynerba Pharmaceuticals Inc.</td>\n      <td>Zynerba Pharmaceuticals</td>\n      <td>Biotechnology</td>\n      <td>Zynerba Pharmaceuticals Inc together with its ...</td>\n      <td>http://www.zynerba.com</td>\n      <td>ZYNE.png</td>\n      <td>Armando Anido</td>\n      <td>NASDAQ Global Market</td>\n      <td>9.994437e+07</td>\n      <td>Healthcare</td>\n      <td>Healthcare</td>\n      <td>Biotechnology</td>\n      <td>NaN</td>\n    </tr>\n  </tbody>\n</table>\n<p>6368 rows × 14 columns</p>\n</div>"
     },
     "execution_count": 167,
     "metadata": {},
     "output_type": "execute_result"
    }
   ],
   "source": [
    "external_dataset = pd.read_csv('../data/companies.csv')\n",
    "external_dataset"
   ]
  },
  {
   "cell_type": "markdown",
   "id": "a67d9a17",
   "metadata": {
    "pycharm": {
     "name": "#%% md\n"
    }
   },
   "source": [
    "## Dataset Overview\n",
    "\n",
    "In this section, we will explore the data set to get a sense of what data it contains."
   ]
  },
  {
   "cell_type": "code",
   "execution_count": 168,
   "outputs": [
    {
     "data": {
      "text/plain": "(6368, 14)"
     },
     "execution_count": 168,
     "metadata": {},
     "output_type": "execute_result"
    }
   ],
   "source": [
    "external_dataset.shape"
   ],
   "metadata": {
    "collapsed": false,
    "pycharm": {
     "name": "#%%\n"
    }
   }
  },
  {
   "cell_type": "markdown",
   "source": [
    "There are 6368 rows and 14 columns in the dataset."
   ],
   "metadata": {
    "collapsed": false,
    "pycharm": {
     "name": "#%% md\n"
    }
   }
  },
  {
   "cell_type": "code",
   "execution_count": 169,
   "id": "81fcf74d",
   "metadata": {
    "pycharm": {
     "name": "#%%\n"
    }
   },
   "outputs": [
    {
     "data": {
      "text/plain": "Index(['ticker', 'company name', 'short name', 'industry', 'description',\n       'website', 'logo', 'ceo', 'exchange', 'market cap', 'sector', 'tag 1',\n       'tag 2', 'tag 3'],\n      dtype='object')"
     },
     "execution_count": 169,
     "metadata": {},
     "output_type": "execute_result"
    }
   ],
   "source": [
    "external_dataset.columns"
   ]
  },
  {
   "cell_type": "code",
   "execution_count": 170,
   "id": "6591eb5a",
   "metadata": {
    "pycharm": {
     "name": "#%%\n"
    }
   },
   "outputs": [
    {
     "data": {
      "text/plain": "Asset Management        598\nBiotechnology           491\nBanks                   449\nApplication Software    305\nREITs                   226\n                       ... \nPersonal Services        12\nHealth Care Plans        10\nTobacco Products          8\nMedical Distribution      7\nTruck Manufacturing       6\nName: industry, Length: 69, dtype: int64"
     },
     "execution_count": 170,
     "metadata": {},
     "output_type": "execute_result"
    }
   ],
   "source": [
    "external_dataset.industry.value_counts()"
   ]
  },
  {
   "cell_type": "markdown",
   "id": "3379c129",
   "metadata": {
    "pycharm": {
     "name": "#%% md\n"
    }
   },
   "source": [
    "As can be seen, there are **491** companies working in the Biotechnology industry."
   ]
  },
  {
   "cell_type": "markdown",
   "id": "3de4aa0a",
   "metadata": {
    "pycharm": {
     "name": "#%% md\n"
    }
   },
   "source": [
    "## Extract Data\n",
    "\n",
    "Now, we will extract our target companies' names and tickers, which will be used later to import historical financial data."
   ]
  },
  {
   "cell_type": "code",
   "execution_count": 171,
   "id": "310c5327",
   "metadata": {
    "pycharm": {
     "name": "#%%\n"
    }
   },
   "outputs": [],
   "source": [
    "# biotech -> companies whose industry feature equals Biotechnology\n",
    "biotech = external_dataset.loc[external_dataset.industry == 'Biotechnology']"
   ]
  },
  {
   "cell_type": "code",
   "execution_count": 172,
   "id": "726516e7",
   "metadata": {
    "pycharm": {
     "name": "#%%\n"
    }
   },
   "outputs": [
    {
     "data": {
      "text/plain": "(491, 14)"
     },
     "execution_count": 172,
     "metadata": {},
     "output_type": "execute_result"
    }
   ],
   "source": [
    "biotech.shape"
   ]
  },
  {
   "cell_type": "markdown",
   "source": [
    "491 rows has been saved in the variable"
   ],
   "metadata": {
    "collapsed": false,
    "pycharm": {
     "name": "#%% md\n"
    }
   }
  },
  {
   "cell_type": "code",
   "execution_count": 173,
   "id": "89fb352f",
   "metadata": {
    "pycharm": {
     "name": "#%%\n"
    }
   },
   "outputs": [
    {
     "data": {
      "text/plain": "     ticker                   company name\n24     ABEO       Abeona Therapeutics Inc.\n28     ABIO            ARCA biopharma Inc.\n34     ABUS  Arbutus Biopharma Corporation\n37     ACAD    ACADIA Pharmaceuticals Inc.\n42     ACER         Acer Therapeutics Inc.\n...     ...                            ...\n6348   ZIOP          ZIOPHARM Oncology Inc\n6352   ZLAB                Zai Lab Limited\n6359   ZSAN      Zosano Pharma Corporation\n6366   ZYME                 Zymeworks Inc.\n6367   ZYNE   Zynerba Pharmaceuticals Inc.\n\n[491 rows x 2 columns]",
      "text/html": "<div>\n<style scoped>\n    .dataframe tbody tr th:only-of-type {\n        vertical-align: middle;\n    }\n\n    .dataframe tbody tr th {\n        vertical-align: top;\n    }\n\n    .dataframe thead th {\n        text-align: right;\n    }\n</style>\n<table border=\"1\" class=\"dataframe\">\n  <thead>\n    <tr style=\"text-align: right;\">\n      <th></th>\n      <th>ticker</th>\n      <th>company name</th>\n    </tr>\n  </thead>\n  <tbody>\n    <tr>\n      <th>24</th>\n      <td>ABEO</td>\n      <td>Abeona Therapeutics Inc.</td>\n    </tr>\n    <tr>\n      <th>28</th>\n      <td>ABIO</td>\n      <td>ARCA biopharma Inc.</td>\n    </tr>\n    <tr>\n      <th>34</th>\n      <td>ABUS</td>\n      <td>Arbutus Biopharma Corporation</td>\n    </tr>\n    <tr>\n      <th>37</th>\n      <td>ACAD</td>\n      <td>ACADIA Pharmaceuticals Inc.</td>\n    </tr>\n    <tr>\n      <th>42</th>\n      <td>ACER</td>\n      <td>Acer Therapeutics Inc.</td>\n    </tr>\n    <tr>\n      <th>...</th>\n      <td>...</td>\n      <td>...</td>\n    </tr>\n    <tr>\n      <th>6348</th>\n      <td>ZIOP</td>\n      <td>ZIOPHARM Oncology Inc</td>\n    </tr>\n    <tr>\n      <th>6352</th>\n      <td>ZLAB</td>\n      <td>Zai Lab Limited</td>\n    </tr>\n    <tr>\n      <th>6359</th>\n      <td>ZSAN</td>\n      <td>Zosano Pharma Corporation</td>\n    </tr>\n    <tr>\n      <th>6366</th>\n      <td>ZYME</td>\n      <td>Zymeworks Inc.</td>\n    </tr>\n    <tr>\n      <th>6367</th>\n      <td>ZYNE</td>\n      <td>Zynerba Pharmaceuticals Inc.</td>\n    </tr>\n  </tbody>\n</table>\n<p>491 rows × 2 columns</p>\n</div>"
     },
     "execution_count": 173,
     "metadata": {},
     "output_type": "execute_result"
    }
   ],
   "source": [
    "# ticker and company name features are the only attributes needed!\n",
    "cols = ['ticker', 'company name']\n",
    "biotech = biotech[cols]\n",
    "biotech"
   ]
  },
  {
   "cell_type": "code",
   "execution_count": 174,
   "id": "345601ee",
   "metadata": {
    "pycharm": {
     "name": "#%%\n"
    }
   },
   "outputs": [
    {
     "data": {
      "text/plain": "    ticker                   company name\n0     ABEO       Abeona Therapeutics Inc.\n1     ABIO            ARCA biopharma Inc.\n2     ABUS  Arbutus Biopharma Corporation\n3     ACAD    ACADIA Pharmaceuticals Inc.\n4     ACER         Acer Therapeutics Inc.\n..     ...                            ...\n486   ZIOP          ZIOPHARM Oncology Inc\n487   ZLAB                Zai Lab Limited\n488   ZSAN      Zosano Pharma Corporation\n489   ZYME                 Zymeworks Inc.\n490   ZYNE   Zynerba Pharmaceuticals Inc.\n\n[491 rows x 2 columns]",
      "text/html": "<div>\n<style scoped>\n    .dataframe tbody tr th:only-of-type {\n        vertical-align: middle;\n    }\n\n    .dataframe tbody tr th {\n        vertical-align: top;\n    }\n\n    .dataframe thead th {\n        text-align: right;\n    }\n</style>\n<table border=\"1\" class=\"dataframe\">\n  <thead>\n    <tr style=\"text-align: right;\">\n      <th></th>\n      <th>ticker</th>\n      <th>company name</th>\n    </tr>\n  </thead>\n  <tbody>\n    <tr>\n      <th>0</th>\n      <td>ABEO</td>\n      <td>Abeona Therapeutics Inc.</td>\n    </tr>\n    <tr>\n      <th>1</th>\n      <td>ABIO</td>\n      <td>ARCA biopharma Inc.</td>\n    </tr>\n    <tr>\n      <th>2</th>\n      <td>ABUS</td>\n      <td>Arbutus Biopharma Corporation</td>\n    </tr>\n    <tr>\n      <th>3</th>\n      <td>ACAD</td>\n      <td>ACADIA Pharmaceuticals Inc.</td>\n    </tr>\n    <tr>\n      <th>4</th>\n      <td>ACER</td>\n      <td>Acer Therapeutics Inc.</td>\n    </tr>\n    <tr>\n      <th>...</th>\n      <td>...</td>\n      <td>...</td>\n    </tr>\n    <tr>\n      <th>486</th>\n      <td>ZIOP</td>\n      <td>ZIOPHARM Oncology Inc</td>\n    </tr>\n    <tr>\n      <th>487</th>\n      <td>ZLAB</td>\n      <td>Zai Lab Limited</td>\n    </tr>\n    <tr>\n      <th>488</th>\n      <td>ZSAN</td>\n      <td>Zosano Pharma Corporation</td>\n    </tr>\n    <tr>\n      <th>489</th>\n      <td>ZYME</td>\n      <td>Zymeworks Inc.</td>\n    </tr>\n    <tr>\n      <th>490</th>\n      <td>ZYNE</td>\n      <td>Zynerba Pharmaceuticals Inc.</td>\n    </tr>\n  </tbody>\n</table>\n<p>491 rows × 2 columns</p>\n</div>"
     },
     "execution_count": 174,
     "metadata": {},
     "output_type": "execute_result"
    }
   ],
   "source": [
    "# Reset index to start from 0 \n",
    "biotech = biotech.reset_index().drop(columns = 'index')\n",
    "biotech"
   ]
  },
  {
   "cell_type": "code",
   "execution_count": 175,
   "outputs": [],
   "source": [
    "# Export biotech dataframe as a .csv file\n",
    "biotech.to_csv('../data/biotech_companies.csv', index=False)"
   ],
   "metadata": {
    "collapsed": false,
    "pycharm": {
     "name": "#%%\n"
    }
   }
  },
  {
   "cell_type": "code",
   "execution_count": 175,
   "outputs": [],
   "source": [],
   "metadata": {
    "collapsed": false,
    "pycharm": {
     "name": "#%%\n"
    }
   }
  }
 ],
 "metadata": {
  "kernelspec": {
   "display_name": "Python 3 (ipykernel)",
   "language": "python",
   "name": "python3"
  },
  "language_info": {
   "codemirror_mode": {
    "name": "ipython",
    "version": 3
   },
   "file_extension": ".py",
   "mimetype": "text/x-python",
   "name": "python",
   "nbconvert_exporter": "python",
   "pygments_lexer": "ipython3",
   "version": "3.9.7"
  }
 },
 "nbformat": 4,
 "nbformat_minor": 5
}