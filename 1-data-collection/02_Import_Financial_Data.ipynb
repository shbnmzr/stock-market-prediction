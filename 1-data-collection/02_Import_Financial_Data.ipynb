{
 "cells": [
  {
   "cell_type": "markdown",
   "source": [
    "## Introduction\n",
    "\n",
    "In this notebook, our primary goal is to import financial data of biotech companies, whose names and tickers have already been saved into a .csv file."
   ],
   "metadata": {
    "collapsed": false,
    "pycharm": {
     "name": "#%% md\n"
    }
   }
  },
  {
   "cell_type": "markdown",
   "source": [
    "## Import Packages & Data"
   ],
   "metadata": {
    "collapsed": false,
    "pycharm": {
     "name": "#%% md\n"
    }
   }
  },
  {
   "cell_type": "code",
   "execution_count": 1,
   "outputs": [],
   "source": [
    "import pandas as pd\n",
    "from datetime import datetime\n",
    "from modules.data_collection_functions import *\n",
    "import os"
   ],
   "metadata": {
    "collapsed": false,
    "pycharm": {
     "name": "#%%\n"
    }
   }
  },
  {
   "cell_type": "code",
   "execution_count": 2,
   "outputs": [],
   "source": [
    "companies = pd.read_csv('../data/biotech_companies.csv')"
   ],
   "metadata": {
    "collapsed": false,
    "pycharm": {
     "name": "#%%\n"
    }
   }
  },
  {
   "cell_type": "code",
   "execution_count": 3,
   "outputs": [
    {
     "data": {
      "text/plain": "  ticker                   company name\n0   ABEO       Abeona Therapeutics Inc.\n1   ABIO            ARCA biopharma Inc.\n2   ABUS  Arbutus Biopharma Corporation\n3   ACAD    ACADIA Pharmaceuticals Inc.\n4   ACER         Acer Therapeutics Inc.",
      "text/html": "<div>\n<style scoped>\n    .dataframe tbody tr th:only-of-type {\n        vertical-align: middle;\n    }\n\n    .dataframe tbody tr th {\n        vertical-align: top;\n    }\n\n    .dataframe thead th {\n        text-align: right;\n    }\n</style>\n<table border=\"1\" class=\"dataframe\">\n  <thead>\n    <tr style=\"text-align: right;\">\n      <th></th>\n      <th>ticker</th>\n      <th>company name</th>\n    </tr>\n  </thead>\n  <tbody>\n    <tr>\n      <th>0</th>\n      <td>ABEO</td>\n      <td>Abeona Therapeutics Inc.</td>\n    </tr>\n    <tr>\n      <th>1</th>\n      <td>ABIO</td>\n      <td>ARCA biopharma Inc.</td>\n    </tr>\n    <tr>\n      <th>2</th>\n      <td>ABUS</td>\n      <td>Arbutus Biopharma Corporation</td>\n    </tr>\n    <tr>\n      <th>3</th>\n      <td>ACAD</td>\n      <td>ACADIA Pharmaceuticals Inc.</td>\n    </tr>\n    <tr>\n      <th>4</th>\n      <td>ACER</td>\n      <td>Acer Therapeutics Inc.</td>\n    </tr>\n  </tbody>\n</table>\n</div>"
     },
     "execution_count": 3,
     "metadata": {},
     "output_type": "execute_result"
    }
   ],
   "source": [
    "companies.head()"
   ],
   "metadata": {
    "collapsed": false,
    "pycharm": {
     "name": "#%%\n"
    }
   }
  },
  {
   "cell_type": "code",
   "execution_count": 4,
   "outputs": [
    {
     "name": "stdout",
     "output_type": "stream",
     "text": [
      "<class 'pandas.core.frame.DataFrame'>\n",
      "RangeIndex: 491 entries, 0 to 490\n",
      "Data columns (total 2 columns):\n",
      " #   Column        Non-Null Count  Dtype \n",
      "---  ------        --------------  ----- \n",
      " 0   ticker        491 non-null    object\n",
      " 1   company name  491 non-null    object\n",
      "dtypes: object(2)\n",
      "memory usage: 7.8+ KB\n"
     ]
    }
   ],
   "source": [
    "companies.info()"
   ],
   "metadata": {
    "collapsed": false,
    "pycharm": {
     "name": "#%%\n"
    }
   }
  },
  {
   "cell_type": "markdown",
   "source": [
    "As can be seen, there are **491** companies whose historical data will be retrieved."
   ],
   "metadata": {
    "collapsed": false,
    "pycharm": {
     "name": "#%% md\n"
    }
   }
  },
  {
   "cell_type": "markdown",
   "source": [
    "## Data Source 1: Yahoo Finance"
   ],
   "metadata": {
    "collapsed": false,
    "pycharm": {
     "name": "#%% md\n"
    }
   }
  },
  {
   "cell_type": "code",
   "execution_count": 5,
   "outputs": [
    {
     "name": "stdout",
     "output_type": "stream",
     "text": [
      "[*********************100%***********************]  491 of 491 completed\n",
      "\n",
      "119 Failed downloads:\n",
      "- ADRO: No data found, symbol may be delisted\n",
      "- CTRV: No data found, symbol may be delisted\n",
      "- OHRP: No data found, symbol may be delisted\n",
      "- GEMP: No data found, symbol may be delisted\n",
      "- OSIR: No data found, symbol may be delisted\n",
      "- DMPI: No data found, symbol may be delisted\n",
      "- FOMX: No data found, symbol may be delisted\n",
      "- DOVA: No data found, symbol may be delisted\n",
      "- ALXN: No data found, symbol may be delisted\n",
      "- PGNX: No data found, symbol may be delisted\n",
      "- NTGN: No data found, symbol may be delisted\n",
      "- IPCI: No data found, symbol may be delisted\n",
      "- CELG: No data found, symbol may be delisted\n",
      "- VTL: No data found, symbol may be delisted\n",
      "- AKCA: No data found, symbol may be delisted\n",
      "- SBPH: No data found, symbol may be delisted\n",
      "- XON: No data found, symbol may be delisted\n",
      "- DRNA: No data found, symbol may be delisted\n",
      "- AZRX: No data found, symbol may be delisted\n",
      "- CNAT: No data found, symbol may be delisted\n",
      "- XLRN: No data found, symbol may be delisted\n",
      "- SNNA: No data found, symbol may be delisted\n",
      "- AKAO: No data found, symbol may be delisted\n",
      "- CBMG: No data found, symbol may be delisted\n",
      "- LOXO: No data found, symbol may be delisted\n",
      "- AST: No data found, symbol may be delisted\n",
      "- ZSAN: No data found, symbol may be delisted\n",
      "- PETX: No data found, symbol may be delisted\n",
      "- TBIO: No data found, symbol may be delisted\n",
      "- CBM: No data found, symbol may be delisted\n",
      "- PDLI: No data found, symbol may be delisted\n",
      "- AMAG: No data found, symbol may be delisted\n",
      "- MYOK: No data found, symbol may be delisted\n",
      "- CYTX: No data found, symbol may be delisted\n",
      "- APOP: No data found, symbol may be delisted\n",
      "- CHMA: No data found, symbol may be delisted\n",
      "- CBLI: No data found, symbol may be delisted\n",
      "- NVLN: No data found, symbol may be delisted\n",
      "- GTXI: No data found, symbol may be delisted\n",
      "- PTIE: No data found, symbol may be delisted\n",
      "- VVUS: No data found, symbol may be delisted\n",
      "- MLND: No data found, symbol may be delisted\n",
      "- SBBP: No data found, symbol may be delisted\n",
      "- ZIOP: No data found, symbol may be delisted\n",
      "- IMMU: No data found, symbol may be delisted\n",
      "- REPH: No data found, symbol may be delisted\n",
      "- VICL: No data found, symbol may be delisted\n",
      "- ALDR: No data found, symbol may be delisted\n",
      "- NTEC: No data found, symbol may be delisted\n",
      "- FLKS: No data found, symbol may be delisted\n",
      "- FPRX: No data found, symbol may be delisted\n",
      "- KIN: No data found, symbol may be delisted\n",
      "- ONCE: No data found, symbol may be delisted\n",
      "- RNN: No data found, symbol may be delisted\n",
      "- FTSV: No data found, symbol may be delisted\n",
      "- HTBX: No data found, symbol may be delisted\n",
      "- APHB: No data found, symbol may be delisted\n",
      "- CNST: No data found, symbol may be delisted\n",
      "- RLM: No data found, symbol may be delisted\n",
      "- IMDZ: No data found, symbol may be delisted\n",
      "- CBPO: No data found, symbol may be delisted\n",
      "- BFRA: No data found, symbol may be delisted\n",
      "- HEB: No data found, symbol may be delisted\n",
      "- MNLO: No data found, symbol may be delisted\n",
      "- SBOT: No data found, symbol may be delisted\n",
      "- PRAN: No data found, symbol may be delisted\n",
      "- MLNT: No data found, symbol may be delisted\n",
      "- BPMX: No data found, symbol may be delisted\n",
      "- AIMT: No data found, symbol may be delisted\n",
      "- CATB: No data found, symbol may be delisted\n",
      "- TRPX: No data found, symbol may be delisted\n",
      "- OMED: No data found, symbol may be delisted\n",
      "- UMRX: No data found, symbol may be delisted\n",
      "- BSTC: No data found, symbol may be delisted\n",
      "- ORPN: No data found, symbol may be delisted\n",
      "- THOR: No data found, symbol may be delisted\n",
      "- TTPH: No data found, symbol may be delisted\n",
      "- RTTR: No data found, symbol may be delisted\n",
      "- TRIL: No data found, symbol may be delisted\n",
      "- PTI: No data found, symbol may be delisted\n",
      "- OPHT: No data found, symbol may be delisted\n",
      "- SPHS: No data found, symbol may be delisted\n",
      "- EDGE: No data found, symbol may be delisted\n",
      "- GNMX: No data found, symbol may be delisted\n",
      "- INSY: No data found, symbol may be delisted\n",
      "- NTRP: No data found, symbol may be delisted\n",
      "- ARQL: No data found, symbol may be delisted\n",
      "- NVUS: No data found, symbol may be delisted\n",
      "- KTOV: No data found, symbol may be delisted\n",
      "- EARS: No data found, symbol may be delisted\n",
      "- UROV: No data found, symbol may be delisted\n",
      "- OSMT: No data found, symbol may be delisted\n",
      "- TORC: No data found, symbol may be delisted\n",
      "- CMTA: No data found, symbol may be delisted\n",
      "- NLNK: No data found, symbol may be delisted\n",
      "- PRNB: No data found, symbol may be delisted\n",
      "- NITE: No data found, symbol may be delisted\n",
      "- PTLA: No data found, symbol may be delisted\n",
      "- NK: No data found, symbol may be delisted\n",
      "- ZFGN: No data found, symbol may be delisted\n",
      "- EIDX: No data found, symbol may be delisted\n",
      "- KDMN: No data found, symbol may be delisted\n",
      "- MTFB: No data found, symbol may be delisted\n",
      "- BOLD: No data found, symbol may be delisted\n",
      "- PFNX: No data found, symbol may be delisted\n",
      "- TLC: No data found, symbol may be delisted\n",
      "- HSGX: No data found, symbol may be delisted\n",
      "- ARPO: No data found, symbol may be delisted\n",
      "- SNSS: No data found, symbol may be delisted\n",
      "- PRTO: No data found, symbol may be delisted\n",
      "- ARNA: No data found, symbol may be delisted\n",
      "- STML: No data found, symbol may be delisted\n",
      "- TOCA: No data found, symbol may be delisted\n",
      "- RARX: No data found, symbol may be delisted\n",
      "- INNT: No data found, symbol may be delisted\n",
      "- ODT: No data found, symbol may be delisted\n",
      "- CERC: No data found, symbol may be delisted\n",
      "- CUR: No data found, symbol may be delisted\n",
      "- EYEG: No data found, symbol may be delisted\n"
     ]
    }
   ],
   "source": [
    "period = '5y'\n",
    "symbols = companies['ticker']\n",
    "\n",
    "yf_data = get_historical_data_from_yf(symbols, period)"
   ],
   "metadata": {
    "collapsed": false,
    "pycharm": {
     "name": "#%%\n"
    }
   }
  },
  {
   "cell_type": "markdown",
   "source": [
    "Data retrieved from Yahoo Finance is incomplete. 119 companies of the initial 491 do not have any data recorded."
   ],
   "metadata": {
    "collapsed": false,
    "pycharm": {
     "name": "#%% md\n"
    }
   }
  },
  {
   "cell_type": "code",
   "execution_count": 6,
   "outputs": [],
   "source": [
    "yf_data = yf_data.swaplevel(axis=1).sort_index(axis=1)"
   ],
   "metadata": {
    "collapsed": false,
    "pycharm": {
     "name": "#%%\n"
    }
   }
  },
  {
   "cell_type": "code",
   "execution_count": 7,
   "outputs": [],
   "source": [
    "symbols_set = set(symbols)"
   ],
   "metadata": {
    "collapsed": false,
    "pycharm": {
     "name": "#%%\n"
    }
   }
  },
  {
   "cell_type": "code",
   "execution_count": 8,
   "outputs": [
    {
     "data": {
      "text/plain": "491"
     },
     "execution_count": 8,
     "metadata": {},
     "output_type": "execute_result"
    }
   ],
   "source": [
    "retrieved = get_retrieved_symbols(yf_data)\n",
    "len(retrieved)"
   ],
   "metadata": {
    "collapsed": false,
    "pycharm": {
     "name": "#%%\n"
    }
   }
  },
  {
   "cell_type": "code",
   "execution_count": 10,
   "outputs": [
    {
     "name": "stdout",
     "output_type": "stream",
     "text": [
      "Already Exists\n"
     ]
    }
   ],
   "source": [
    "try:\n",
    "    os.mkdir('../data/historical')\n",
    "except:\n",
    "    print('Already Exists')\n",
    "finally:\n",
    "    path = '../data/historical/'\n",
    "    export_to_csv(yf_data, path, retrieved)"
   ],
   "metadata": {
    "collapsed": false,
    "pycharm": {
     "name": "#%%\n"
    }
   }
  },
  {
   "cell_type": "markdown",
   "source": [
    "## Data Source 2: IEX Cloud\n",
    "This method will not be applicable in this case. However, if you have access to a premium account on IEX Cloud, you can uncomment the lines and retrieve data."
   ],
   "metadata": {
    "collapsed": false,
    "pycharm": {
     "name": "#%% md\n"
    }
   }
  },
  {
   "cell_type": "code",
   "execution_count": 11,
   "outputs": [],
   "source": [
    "# Publishable key\n",
    "iex_api_key = 'pk_7214effdee6e4e31b49afe88989d1f46'\n",
    "historical_data_url = 'https://cloud.iexapis.com/stable/stock/{}/chart/max?token={}'"
   ],
   "metadata": {
    "collapsed": false,
    "pycharm": {
     "name": "#%%\n"
    }
   }
  },
  {
   "cell_type": "code",
   "execution_count": 12,
   "outputs": [],
   "source": [
    "start = yf_data.index[0]\n",
    "end = yf_data.index[-1]\n",
    "start = datetime(start.year, start.month, start.day)\n",
    "end = datetime(end.year, end.month, end.day)"
   ],
   "metadata": {
    "collapsed": false,
    "pycharm": {
     "name": "#%%\n"
    }
   }
  },
  {
   "cell_type": "code",
   "execution_count": 13,
   "outputs": [],
   "source": [
    "# Caution: In order to retrieve all the data make sure you are using a key that belongs to a premium account\n",
    "# After entering the key, uncomment the line below\n",
    "\n",
    "# historic_data = pd.DataFrame(asyncio.run(get_symbols(symbols, iex_api_key, historical_data_url)))\n",
    "# historical_data = get_historical_data_from_iexcloud(symbols, start, end, iex_api_key)"
   ],
   "metadata": {
    "collapsed": false,
    "pycharm": {
     "name": "#%%\n"
    }
   }
  },
  {
   "cell_type": "code",
   "execution_count": null,
   "outputs": [],
   "source": [],
   "metadata": {
    "collapsed": false,
    "pycharm": {
     "name": "#%%\n"
    }
   }
  }
 ],
 "metadata": {
  "kernelspec": {
   "display_name": "Python 3",
   "language": "python",
   "name": "python3"
  },
  "language_info": {
   "codemirror_mode": {
    "name": "ipython",
    "version": 2
   },
   "file_extension": ".py",
   "mimetype": "text/x-python",
   "name": "python",
   "nbconvert_exporter": "python",
   "pygments_lexer": "ipython2",
   "version": "2.7.6"
  }
 },
 "nbformat": 4,
 "nbformat_minor": 0
}