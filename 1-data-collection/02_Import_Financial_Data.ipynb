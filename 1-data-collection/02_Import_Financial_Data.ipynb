{
 "cells": [
  {
   "cell_type": "markdown",
   "source": [
    "## Introduction\n",
    "\n",
    "In this notebook, our primary goal is to import financial data of biotech companies, whose names and tickers have already been saved into a .csv file."
   ],
   "metadata": {
    "collapsed": false,
    "pycharm": {
     "name": "#%% md\n"
    }
   }
  },
  {
   "cell_type": "markdown",
   "source": [
    "## Import Packages & Data"
   ],
   "metadata": {
    "collapsed": false,
    "pycharm": {
     "name": "#%% md\n"
    }
   }
  },
  {
   "cell_type": "code",
   "execution_count": 14,
   "outputs": [],
   "source": [
    "import pandas as pd\n",
    "from datetime import datetime\n",
    "from modules.data_collection_functions import *\n",
    "import os"
   ],
   "metadata": {
    "collapsed": false,
    "pycharm": {
     "name": "#%%\n"
    }
   }
  },
  {
   "cell_type": "code",
   "execution_count": 15,
   "outputs": [],
   "source": [
    "companies = pd.read_csv('../data/biotech_companies.csv')"
   ],
   "metadata": {
    "collapsed": false,
    "pycharm": {
     "name": "#%%\n"
    }
   }
  },
  {
   "cell_type": "code",
   "execution_count": 16,
   "outputs": [
    {
     "data": {
      "text/plain": "  ticker                   company name\n0   ABEO       Abeona Therapeutics Inc.\n1   ABIO            ARCA biopharma Inc.\n2   ABUS  Arbutus Biopharma Corporation\n3   ACAD    ACADIA Pharmaceuticals Inc.\n4   ACER         Acer Therapeutics Inc.",
      "text/html": "<div>\n<style scoped>\n    .dataframe tbody tr th:only-of-type {\n        vertical-align: middle;\n    }\n\n    .dataframe tbody tr th {\n        vertical-align: top;\n    }\n\n    .dataframe thead th {\n        text-align: right;\n    }\n</style>\n<table border=\"1\" class=\"dataframe\">\n  <thead>\n    <tr style=\"text-align: right;\">\n      <th></th>\n      <th>ticker</th>\n      <th>company name</th>\n    </tr>\n  </thead>\n  <tbody>\n    <tr>\n      <th>0</th>\n      <td>ABEO</td>\n      <td>Abeona Therapeutics Inc.</td>\n    </tr>\n    <tr>\n      <th>1</th>\n      <td>ABIO</td>\n      <td>ARCA biopharma Inc.</td>\n    </tr>\n    <tr>\n      <th>2</th>\n      <td>ABUS</td>\n      <td>Arbutus Biopharma Corporation</td>\n    </tr>\n    <tr>\n      <th>3</th>\n      <td>ACAD</td>\n      <td>ACADIA Pharmaceuticals Inc.</td>\n    </tr>\n    <tr>\n      <th>4</th>\n      <td>ACER</td>\n      <td>Acer Therapeutics Inc.</td>\n    </tr>\n  </tbody>\n</table>\n</div>"
     },
     "execution_count": 16,
     "metadata": {},
     "output_type": "execute_result"
    }
   ],
   "source": [
    "companies.head()"
   ],
   "metadata": {
    "collapsed": false,
    "pycharm": {
     "name": "#%%\n"
    }
   }
  },
  {
   "cell_type": "code",
   "execution_count": 17,
   "outputs": [
    {
     "name": "stdout",
     "output_type": "stream",
     "text": [
      "<class 'pandas.core.frame.DataFrame'>\n",
      "RangeIndex: 491 entries, 0 to 490\n",
      "Data columns (total 2 columns):\n",
      " #   Column        Non-Null Count  Dtype \n",
      "---  ------        --------------  ----- \n",
      " 0   ticker        491 non-null    object\n",
      " 1   company name  491 non-null    object\n",
      "dtypes: object(2)\n",
      "memory usage: 7.8+ KB\n"
     ]
    }
   ],
   "source": [
    "companies.info()"
   ],
   "metadata": {
    "collapsed": false,
    "pycharm": {
     "name": "#%%\n"
    }
   }
  },
  {
   "cell_type": "markdown",
   "source": [
    "As can be seen, there are **491** companies whose historical data will be retrieved."
   ],
   "metadata": {
    "collapsed": false,
    "pycharm": {
     "name": "#%% md\n"
    }
   }
  },
  {
   "cell_type": "markdown",
   "source": [
    "## Data Source 1: Yahoo Finance"
   ],
   "metadata": {
    "collapsed": false,
    "pycharm": {
     "name": "#%% md\n"
    }
   }
  },
  {
   "cell_type": "code",
   "execution_count": 18,
   "outputs": [
    {
     "name": "stdout",
     "output_type": "stream",
     "text": [
      "[*********************100%***********************]  491 of 491 completed\n",
      "\n",
      "119 Failed downloads:\n",
      "- ZSAN: No data found, symbol may be delisted\n",
      "- TTPH: No data found, symbol may be delisted\n",
      "- EDGE: No data found, symbol may be delisted\n",
      "- TRPX: No data found, symbol may be delisted\n",
      "- PTIE: No data found, symbol may be delisted\n",
      "- PRNB: No data found, symbol may be delisted\n",
      "- INSY: No data found, symbol may be delisted\n",
      "- THOR: No data found, symbol may be delisted\n",
      "- NVLN: No data found, symbol may be delisted\n",
      "- XLRN: No data found, symbol may be delisted\n",
      "- ALXN: No data found, symbol may be delisted\n",
      "- REPH: No data found, symbol may be delisted\n",
      "- BSTC: No data found, symbol may be delisted\n",
      "- BOLD: No data found, symbol may be delisted\n",
      "- AKCA: No data found, symbol may be delisted\n",
      "- XON: No data found, symbol may be delisted\n",
      "- OSMT: No data found, symbol may be delisted\n",
      "- PTI: No data found, symbol may be delisted\n",
      "- HSGX: No data found, symbol may be delisted\n",
      "- VTL: No data found, symbol may be delisted\n",
      "- KDMN: No data found, symbol may be delisted\n",
      "- ADRO: No data found, symbol may be delisted\n",
      "- ODT: No data found, symbol may be delisted\n",
      "- PTLA: No data found, symbol may be delisted\n",
      "- UMRX: No data found, symbol may be delisted\n",
      "- APHB: No data found, symbol may be delisted\n",
      "- RARX: No data found, symbol may be delisted\n",
      "- NLNK: No data found, symbol may be delisted\n",
      "- OMED: No data found, symbol may be delisted\n",
      "- LOXO: No data found, symbol may be delisted\n",
      "- CBMG: No data found, symbol may be delisted\n",
      "- MLND: No data found, symbol may be delisted\n",
      "- ZFGN: No data found, symbol may be delisted\n",
      "- STML: No data found, symbol may be delisted\n",
      "- CERC: No data found, symbol may be delisted\n",
      "- FOMX: No data found, symbol may be delisted\n",
      "- SBOT: No data found, symbol may be delisted\n",
      "- AKAO: No data found, symbol may be delisted\n",
      "- MYOK: No data found, symbol may be delisted\n",
      "- BFRA: No data found, symbol may be delisted\n",
      "- KTOV: No data found, symbol may be delisted\n",
      "- EYEG: No data found, symbol may be delisted\n",
      "- HEB: No data found, symbol may be delisted\n",
      "- PGNX: No data found, symbol may be delisted\n",
      "- TLC: No data found, symbol may be delisted\n",
      "- NTRP: No data found, symbol may be delisted\n",
      "- GNMX: No data found, symbol may be delisted\n",
      "- RNN: No data found, symbol may be delisted\n",
      "- HTBX: No data found, symbol may be delisted\n",
      "- SNSS: No data found, symbol may be delisted\n",
      "- GTXI: No data found, symbol may be delisted\n",
      "- ALDR: No data found, symbol may be delisted\n",
      "- ORPN: No data found, symbol may be delisted\n",
      "- DOVA: No data found, symbol may be delisted\n",
      "- MNLO: No data found, symbol may be delisted\n",
      "- PRTO: No data found, symbol may be delisted\n",
      "- INNT: No data found, symbol may be delisted\n",
      "- ARQL: No data found, symbol may be delisted\n",
      "- ZIOP: No data found, symbol may be delisted\n",
      "- CHMA: No data found, symbol may be delisted\n",
      "- PETX: No data found, symbol may be delisted\n",
      "- UROV: No data found, symbol may be delisted\n",
      "- VVUS: No data found, symbol may be delisted\n",
      "- SBPH: No data found, symbol may be delisted\n",
      "- MTFB: No data found, symbol may be delisted\n",
      "- IMDZ: No data found, symbol may be delisted\n",
      "- CUR: No data found, symbol may be delisted\n",
      "- ARNA: No data found, symbol may be delisted\n",
      "- CELG: No data found, symbol may be delisted\n",
      "- TRIL: No data found, symbol may be delisted\n",
      "- RTTR: No data found, symbol may be delisted\n",
      "- EIDX: No data found, symbol may be delisted\n",
      "- IPCI: No data found, symbol may be delisted\n",
      "- RLM: No data found, symbol may be delisted\n",
      "- CNST: No data found, symbol may be delisted\n",
      "- CMTA: No data found, symbol may be delisted\n",
      "- ONCE: No data found, symbol may be delisted\n",
      "- NTGN: No data found, symbol may be delisted\n",
      "- AZRX: No data found, symbol may be delisted\n",
      "- NK: No data found, symbol may be delisted\n",
      "- FLKS: No data found, symbol may be delisted\n",
      "- EARS: No data found, symbol may be delisted\n",
      "- AIMT: No data found, symbol may be delisted\n",
      "- AMAG: No data found, symbol may be delisted\n",
      "- CNAT: No data found, symbol may be delisted\n",
      "- CBM: No data found, symbol may be delisted\n",
      "- TOCA: No data found, symbol may be delisted\n",
      "- BPMX: No data found, symbol may be delisted\n",
      "- DMPI: No data found, symbol may be delisted\n",
      "- OSIR: No data found, symbol may be delisted\n",
      "- CYTX: No data found, symbol may be delisted\n",
      "- TORC: No data found, symbol may be delisted\n",
      "- KIN: No data found, symbol may be delisted\n",
      "- CATB: No data found, symbol may be delisted\n",
      "- GEMP: No data found, symbol may be delisted\n",
      "- VICL: No data found, symbol may be delisted\n",
      "- OHRP: No data found, symbol may be delisted\n",
      "- AST: No data found, symbol may be delisted\n",
      "- MLNT: No data found, symbol may be delisted\n",
      "- CTRV: No data found, symbol may be delisted\n",
      "- CBLI: No data found, symbol may be delisted\n",
      "- SBBP: No data found, symbol may be delisted\n",
      "- APOP: No data found, symbol may be delisted\n",
      "- NVUS: No data found, symbol may be delisted\n",
      "- PFNX: No data found, symbol may be delisted\n",
      "- PRAN: No data found, symbol may be delisted\n",
      "- FTSV: No data found, symbol may be delisted\n",
      "- SNNA: No data found, symbol may be delisted\n",
      "- NTEC: No data found, symbol may be delisted\n",
      "- IMMU: No data found, symbol may be delisted\n",
      "- NITE: No data found, symbol may be delisted\n",
      "- FPRX: No data found, symbol may be delisted\n",
      "- CBPO: No data found, symbol may be delisted\n",
      "- ARPO: No data found, symbol may be delisted\n",
      "- OPHT: No data found, symbol may be delisted\n",
      "- TBIO: No data found, symbol may be delisted\n",
      "- PDLI: No data found, symbol may be delisted\n",
      "- SPHS: No data found, symbol may be delisted\n",
      "- DRNA: No data found, symbol may be delisted\n"
     ]
    }
   ],
   "source": [
    "period = '5y'\n",
    "symbols = companies['ticker']\n",
    "\n",
    "yf_data = get_historical_data_from_yf(symbols, period)"
   ],
   "metadata": {
    "collapsed": false,
    "pycharm": {
     "name": "#%%\n"
    }
   }
  },
  {
   "cell_type": "markdown",
   "source": [
    "Data retrieved from Yahoo Finance is incomplete. 119 companies of the initial 491 do not have any data recorded."
   ],
   "metadata": {
    "collapsed": false,
    "pycharm": {
     "name": "#%% md\n"
    }
   }
  },
  {
   "cell_type": "code",
   "execution_count": 19,
   "outputs": [],
   "source": [
    "yf_data = yf_data.swaplevel(axis=1).sort_index(axis=1)"
   ],
   "metadata": {
    "collapsed": false,
    "pycharm": {
     "name": "#%%\n"
    }
   }
  },
  {
   "cell_type": "code",
   "execution_count": 20,
   "outputs": [],
   "source": [
    "symbols_set = set(symbols)"
   ],
   "metadata": {
    "collapsed": false,
    "pycharm": {
     "name": "#%%\n"
    }
   }
  },
  {
   "cell_type": "code",
   "execution_count": 21,
   "outputs": [
    {
     "data": {
      "text/plain": "491"
     },
     "execution_count": 21,
     "metadata": {},
     "output_type": "execute_result"
    }
   ],
   "source": [
    "retrieved = get_retrieved_symbols(yf_data)\n",
    "len(retrieved)"
   ],
   "metadata": {
    "collapsed": false,
    "pycharm": {
     "name": "#%%\n"
    }
   }
  },
  {
   "cell_type": "code",
   "execution_count": 22,
   "outputs": [
    {
     "data": {
      "text/plain": "                ABEO                                               ABIO  \\\n           Adj Close   Close    High     Low    Open  Volume  Adj Close   \nDate                                                                      \n2017-08-21    196.25  196.25  203.75  187.50  196.25   20136  20.700001   \n2017-08-22    196.25  196.25  205.00  194.50  198.50   18108  18.900000   \n2017-08-23    218.75  218.75  223.75  199.50  200.00   31904  19.799999   \n2017-08-24    240.00  240.00  242.50  221.25  221.25   34228  20.700001   \n2017-08-25    226.25  226.25  250.00  220.00  241.25   38728  21.240000   \n...              ...     ...     ...     ...     ...     ...        ...   \n2022-08-15      4.65    4.65    4.73    4.26    4.50  135400   2.450000   \n2022-08-16      4.77    4.77    4.83    4.46    4.58  173000   2.410000   \n2022-08-17      4.60    4.60    4.81    4.50    4.79   79800   2.380000   \n2022-08-18      4.36    4.36    4.61    4.23    4.61  111500   2.360000   \n2022-08-19      4.05    4.05    4.41    4.02    4.37  131500   2.350000   \n\n                                             ...   ZYME                        \\\n                Close       High        Low  ...   High    Low   Open  Volume   \nDate                                         ...                                \n2017-08-21  20.700001  22.500000  20.700001  ...  7.405  7.100  7.405    3000   \n2017-08-22  18.900000  20.700001  18.900000  ...  7.220  7.000  7.190   11500   \n2017-08-23  19.799999  20.700001  18.900000  ...  7.220  7.046  7.220    7300   \n2017-08-24  20.700001  21.600000  19.799999  ...  7.071  6.760  7.000   14500   \n2017-08-25  21.240000  21.600000  20.700001  ...  7.290  6.920  7.000   19200   \n...               ...        ...        ...  ...    ...    ...    ...     ...   \n2022-08-15   2.450000   2.470000   2.420000  ...  7.470  7.160  7.410  297700   \n2022-08-16   2.410000   2.440000   2.390000  ...  7.250  6.980  7.150  410600   \n2022-08-17   2.380000   2.400000   2.340000  ...  6.890  6.390  6.890  367100   \n2022-08-18   2.360000   2.370000   2.350000  ...  6.520  6.110  6.270  344800   \n2022-08-19   2.350000   2.380000   2.320000  ...  6.490  6.240  6.330  300100   \n\n                ZYNE                                    \n           Adj Close Close   High   Low  Open   Volume  \nDate                                                    \n2017-08-21      6.23  6.23  6.500  6.15  6.24   486800  \n2017-08-22      5.94  5.94  6.325  5.92  6.20   766700  \n2017-08-23      5.73  5.73  6.050  5.62  5.93   747600  \n2017-08-24      6.16  6.16  6.289  5.65  6.00   771100  \n2017-08-25      6.06  6.06  6.210  5.90  6.21   354800  \n...              ...   ...    ...   ...   ...      ...  \n2022-08-15      1.36  1.36  1.370  1.28  1.30   609600  \n2022-08-16      1.33  1.33  1.370  1.30  1.37   276600  \n2022-08-17      1.32  1.32  1.370  1.28  1.36  1300300  \n2022-08-18      1.30  1.30  1.340  1.23  1.34   807000  \n2022-08-19      1.22  1.22  1.270  1.14  1.27   890300  \n\n[1259 rows x 2946 columns]",
      "text/html": "<div>\n<style scoped>\n    .dataframe tbody tr th:only-of-type {\n        vertical-align: middle;\n    }\n\n    .dataframe tbody tr th {\n        vertical-align: top;\n    }\n\n    .dataframe thead tr th {\n        text-align: left;\n    }\n\n    .dataframe thead tr:last-of-type th {\n        text-align: right;\n    }\n</style>\n<table border=\"1\" class=\"dataframe\">\n  <thead>\n    <tr>\n      <th></th>\n      <th colspan=\"6\" halign=\"left\">ABEO</th>\n      <th colspan=\"4\" halign=\"left\">ABIO</th>\n      <th>...</th>\n      <th colspan=\"4\" halign=\"left\">ZYME</th>\n      <th colspan=\"6\" halign=\"left\">ZYNE</th>\n    </tr>\n    <tr>\n      <th></th>\n      <th>Adj Close</th>\n      <th>Close</th>\n      <th>High</th>\n      <th>Low</th>\n      <th>Open</th>\n      <th>Volume</th>\n      <th>Adj Close</th>\n      <th>Close</th>\n      <th>High</th>\n      <th>Low</th>\n      <th>...</th>\n      <th>High</th>\n      <th>Low</th>\n      <th>Open</th>\n      <th>Volume</th>\n      <th>Adj Close</th>\n      <th>Close</th>\n      <th>High</th>\n      <th>Low</th>\n      <th>Open</th>\n      <th>Volume</th>\n    </tr>\n    <tr>\n      <th>Date</th>\n      <th></th>\n      <th></th>\n      <th></th>\n      <th></th>\n      <th></th>\n      <th></th>\n      <th></th>\n      <th></th>\n      <th></th>\n      <th></th>\n      <th></th>\n      <th></th>\n      <th></th>\n      <th></th>\n      <th></th>\n      <th></th>\n      <th></th>\n      <th></th>\n      <th></th>\n      <th></th>\n      <th></th>\n    </tr>\n  </thead>\n  <tbody>\n    <tr>\n      <th>2017-08-21</th>\n      <td>196.25</td>\n      <td>196.25</td>\n      <td>203.75</td>\n      <td>187.50</td>\n      <td>196.25</td>\n      <td>20136</td>\n      <td>20.700001</td>\n      <td>20.700001</td>\n      <td>22.500000</td>\n      <td>20.700001</td>\n      <td>...</td>\n      <td>7.405</td>\n      <td>7.100</td>\n      <td>7.405</td>\n      <td>3000</td>\n      <td>6.23</td>\n      <td>6.23</td>\n      <td>6.500</td>\n      <td>6.15</td>\n      <td>6.24</td>\n      <td>486800</td>\n    </tr>\n    <tr>\n      <th>2017-08-22</th>\n      <td>196.25</td>\n      <td>196.25</td>\n      <td>205.00</td>\n      <td>194.50</td>\n      <td>198.50</td>\n      <td>18108</td>\n      <td>18.900000</td>\n      <td>18.900000</td>\n      <td>20.700001</td>\n      <td>18.900000</td>\n      <td>...</td>\n      <td>7.220</td>\n      <td>7.000</td>\n      <td>7.190</td>\n      <td>11500</td>\n      <td>5.94</td>\n      <td>5.94</td>\n      <td>6.325</td>\n      <td>5.92</td>\n      <td>6.20</td>\n      <td>766700</td>\n    </tr>\n    <tr>\n      <th>2017-08-23</th>\n      <td>218.75</td>\n      <td>218.75</td>\n      <td>223.75</td>\n      <td>199.50</td>\n      <td>200.00</td>\n      <td>31904</td>\n      <td>19.799999</td>\n      <td>19.799999</td>\n      <td>20.700001</td>\n      <td>18.900000</td>\n      <td>...</td>\n      <td>7.220</td>\n      <td>7.046</td>\n      <td>7.220</td>\n      <td>7300</td>\n      <td>5.73</td>\n      <td>5.73</td>\n      <td>6.050</td>\n      <td>5.62</td>\n      <td>5.93</td>\n      <td>747600</td>\n    </tr>\n    <tr>\n      <th>2017-08-24</th>\n      <td>240.00</td>\n      <td>240.00</td>\n      <td>242.50</td>\n      <td>221.25</td>\n      <td>221.25</td>\n      <td>34228</td>\n      <td>20.700001</td>\n      <td>20.700001</td>\n      <td>21.600000</td>\n      <td>19.799999</td>\n      <td>...</td>\n      <td>7.071</td>\n      <td>6.760</td>\n      <td>7.000</td>\n      <td>14500</td>\n      <td>6.16</td>\n      <td>6.16</td>\n      <td>6.289</td>\n      <td>5.65</td>\n      <td>6.00</td>\n      <td>771100</td>\n    </tr>\n    <tr>\n      <th>2017-08-25</th>\n      <td>226.25</td>\n      <td>226.25</td>\n      <td>250.00</td>\n      <td>220.00</td>\n      <td>241.25</td>\n      <td>38728</td>\n      <td>21.240000</td>\n      <td>21.240000</td>\n      <td>21.600000</td>\n      <td>20.700001</td>\n      <td>...</td>\n      <td>7.290</td>\n      <td>6.920</td>\n      <td>7.000</td>\n      <td>19200</td>\n      <td>6.06</td>\n      <td>6.06</td>\n      <td>6.210</td>\n      <td>5.90</td>\n      <td>6.21</td>\n      <td>354800</td>\n    </tr>\n    <tr>\n      <th>...</th>\n      <td>...</td>\n      <td>...</td>\n      <td>...</td>\n      <td>...</td>\n      <td>...</td>\n      <td>...</td>\n      <td>...</td>\n      <td>...</td>\n      <td>...</td>\n      <td>...</td>\n      <td>...</td>\n      <td>...</td>\n      <td>...</td>\n      <td>...</td>\n      <td>...</td>\n      <td>...</td>\n      <td>...</td>\n      <td>...</td>\n      <td>...</td>\n      <td>...</td>\n      <td>...</td>\n    </tr>\n    <tr>\n      <th>2022-08-15</th>\n      <td>4.65</td>\n      <td>4.65</td>\n      <td>4.73</td>\n      <td>4.26</td>\n      <td>4.50</td>\n      <td>135400</td>\n      <td>2.450000</td>\n      <td>2.450000</td>\n      <td>2.470000</td>\n      <td>2.420000</td>\n      <td>...</td>\n      <td>7.470</td>\n      <td>7.160</td>\n      <td>7.410</td>\n      <td>297700</td>\n      <td>1.36</td>\n      <td>1.36</td>\n      <td>1.370</td>\n      <td>1.28</td>\n      <td>1.30</td>\n      <td>609600</td>\n    </tr>\n    <tr>\n      <th>2022-08-16</th>\n      <td>4.77</td>\n      <td>4.77</td>\n      <td>4.83</td>\n      <td>4.46</td>\n      <td>4.58</td>\n      <td>173000</td>\n      <td>2.410000</td>\n      <td>2.410000</td>\n      <td>2.440000</td>\n      <td>2.390000</td>\n      <td>...</td>\n      <td>7.250</td>\n      <td>6.980</td>\n      <td>7.150</td>\n      <td>410600</td>\n      <td>1.33</td>\n      <td>1.33</td>\n      <td>1.370</td>\n      <td>1.30</td>\n      <td>1.37</td>\n      <td>276600</td>\n    </tr>\n    <tr>\n      <th>2022-08-17</th>\n      <td>4.60</td>\n      <td>4.60</td>\n      <td>4.81</td>\n      <td>4.50</td>\n      <td>4.79</td>\n      <td>79800</td>\n      <td>2.380000</td>\n      <td>2.380000</td>\n      <td>2.400000</td>\n      <td>2.340000</td>\n      <td>...</td>\n      <td>6.890</td>\n      <td>6.390</td>\n      <td>6.890</td>\n      <td>367100</td>\n      <td>1.32</td>\n      <td>1.32</td>\n      <td>1.370</td>\n      <td>1.28</td>\n      <td>1.36</td>\n      <td>1300300</td>\n    </tr>\n    <tr>\n      <th>2022-08-18</th>\n      <td>4.36</td>\n      <td>4.36</td>\n      <td>4.61</td>\n      <td>4.23</td>\n      <td>4.61</td>\n      <td>111500</td>\n      <td>2.360000</td>\n      <td>2.360000</td>\n      <td>2.370000</td>\n      <td>2.350000</td>\n      <td>...</td>\n      <td>6.520</td>\n      <td>6.110</td>\n      <td>6.270</td>\n      <td>344800</td>\n      <td>1.30</td>\n      <td>1.30</td>\n      <td>1.340</td>\n      <td>1.23</td>\n      <td>1.34</td>\n      <td>807000</td>\n    </tr>\n    <tr>\n      <th>2022-08-19</th>\n      <td>4.05</td>\n      <td>4.05</td>\n      <td>4.41</td>\n      <td>4.02</td>\n      <td>4.37</td>\n      <td>131500</td>\n      <td>2.350000</td>\n      <td>2.350000</td>\n      <td>2.380000</td>\n      <td>2.320000</td>\n      <td>...</td>\n      <td>6.490</td>\n      <td>6.240</td>\n      <td>6.330</td>\n      <td>300100</td>\n      <td>1.22</td>\n      <td>1.22</td>\n      <td>1.270</td>\n      <td>1.14</td>\n      <td>1.27</td>\n      <td>890300</td>\n    </tr>\n  </tbody>\n</table>\n<p>1259 rows × 2946 columns</p>\n</div>"
     },
     "execution_count": 22,
     "metadata": {},
     "output_type": "execute_result"
    }
   ],
   "source": [
    "yf_data"
   ],
   "metadata": {
    "collapsed": false,
    "pycharm": {
     "name": "#%%\n"
    }
   }
  },
  {
   "cell_type": "code",
   "execution_count": 23,
   "outputs": [
    {
     "name": "stdout",
     "output_type": "stream",
     "text": [
      "Already Exists\n"
     ]
    }
   ],
   "source": [
    "try:\n",
    "    os.mkdir('../data/historical')\n",
    "except:\n",
    "    print('Already Exists')\n",
    "finally:\n",
    "    path = '../data/historical/'\n",
    "    export_to_csv(yf_data, path, retrieved)"
   ],
   "metadata": {
    "collapsed": false,
    "pycharm": {
     "name": "#%%\n"
    }
   }
  },
  {
   "cell_type": "markdown",
   "source": [
    "## Data Source 2: IEX Cloud\n",
    "This method will not be applicable in this case. However, if you have access to a premium account on IEX Cloud, you can uncomment the lines and retrieve data."
   ],
   "metadata": {
    "collapsed": false,
    "pycharm": {
     "name": "#%% md\n"
    }
   }
  },
  {
   "cell_type": "code",
   "execution_count": 24,
   "outputs": [],
   "source": [
    "# Publishable key\n",
    "iex_api_key = 'pk_7214effdee6e4e31b49afe88989d1f46'\n",
    "historical_data_url = 'https://cloud.iexapis.com/stable/stock/{}/chart/max?token={}'"
   ],
   "metadata": {
    "collapsed": false,
    "pycharm": {
     "name": "#%%\n"
    }
   }
  },
  {
   "cell_type": "code",
   "execution_count": 25,
   "outputs": [],
   "source": [
    "start = yf_data.index[0]\n",
    "end = yf_data.index[-1]\n",
    "start = datetime(start.year, start.month, start.day)\n",
    "end = datetime(end.year, end.month, end.day)"
   ],
   "metadata": {
    "collapsed": false,
    "pycharm": {
     "name": "#%%\n"
    }
   }
  },
  {
   "cell_type": "code",
   "execution_count": 26,
   "outputs": [],
   "source": [
    "# Caution: In order to retrieve all the data make sure you are using a key that belongs to a premium account\n",
    "# After entering the key, uncomment the line below\n",
    "\n",
    "# historic_data = pd.DataFrame(asyncio.run(get_symbols(symbols, iex_api_key, historical_data_url)))\n",
    "# historical_data = get_historical_data_from_iexcloud(symbols, start, end, iex_api_key)"
   ],
   "metadata": {
    "collapsed": false,
    "pycharm": {
     "name": "#%%\n"
    }
   }
  },
  {
   "cell_type": "code",
   "execution_count": 26,
   "outputs": [],
   "source": [],
   "metadata": {
    "collapsed": false,
    "pycharm": {
     "name": "#%%\n"
    }
   }
  }
 ],
 "metadata": {
  "kernelspec": {
   "display_name": "Python 3",
   "language": "python",
   "name": "python3"
  },
  "language_info": {
   "codemirror_mode": {
    "name": "ipython",
    "version": 2
   },
   "file_extension": ".py",
   "mimetype": "text/x-python",
   "name": "python",
   "nbconvert_exporter": "python",
   "pygments_lexer": "ipython2",
   "version": "2.7.6"
  }
 },
 "nbformat": 4,
 "nbformat_minor": 0
}