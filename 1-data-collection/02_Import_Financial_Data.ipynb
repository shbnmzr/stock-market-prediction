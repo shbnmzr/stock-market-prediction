{
 "cells": [
  {
   "cell_type": "markdown",
   "source": [
    "## Introduction\n",
    "\n",
    "In this notebook our primary goal is to import financial data of biotech companies, whose names and tickers has been already saved into a .csv file, from multiple reliable sources."
   ],
   "metadata": {
    "collapsed": false,
    "pycharm": {
     "name": "#%% md\n"
    }
   }
  },
  {
   "cell_type": "markdown",
   "source": [
    "## Import Packages & Data"
   ],
   "metadata": {
    "collapsed": false,
    "pycharm": {
     "name": "#%% md\n"
    }
   }
  },
  {
   "cell_type": "code",
   "execution_count": 1,
   "outputs": [],
   "source": [
    "import pandas as pd\n",
    "\n",
    "# IEX Cloud Library\n",
    "from iexfinance.stocks import get_historical_data\n",
    "\n",
    "# Yahoo Finance Library\n",
    "import yfinance as yf\n",
    "\n",
    "import asyncio\n",
    "import aiohttp\n",
    "import nest_asyncio\n",
    "from datetime import datetime\n",
    "\n",
    "nest_asyncio.apply()"
   ],
   "metadata": {
    "collapsed": false,
    "pycharm": {
     "name": "#%%\n"
    }
   }
  },
  {
   "cell_type": "code",
   "execution_count": 2,
   "outputs": [],
   "source": [
    "companies = pd.read_csv('../data/biotech_companies.csv')"
   ],
   "metadata": {
    "collapsed": false,
    "pycharm": {
     "name": "#%%\n"
    }
   }
  },
  {
   "cell_type": "code",
   "execution_count": 3,
   "outputs": [
    {
     "data": {
      "text/plain": "  ticker                   company name\n0   ABEO       Abeona Therapeutics Inc.\n1   ABIO            ARCA biopharma Inc.\n2   ABUS  Arbutus Biopharma Corporation\n3   ACAD    ACADIA Pharmaceuticals Inc.\n4   ACER         Acer Therapeutics Inc.",
      "text/html": "<div>\n<style scoped>\n    .dataframe tbody tr th:only-of-type {\n        vertical-align: middle;\n    }\n\n    .dataframe tbody tr th {\n        vertical-align: top;\n    }\n\n    .dataframe thead th {\n        text-align: right;\n    }\n</style>\n<table border=\"1\" class=\"dataframe\">\n  <thead>\n    <tr style=\"text-align: right;\">\n      <th></th>\n      <th>ticker</th>\n      <th>company name</th>\n    </tr>\n  </thead>\n  <tbody>\n    <tr>\n      <th>0</th>\n      <td>ABEO</td>\n      <td>Abeona Therapeutics Inc.</td>\n    </tr>\n    <tr>\n      <th>1</th>\n      <td>ABIO</td>\n      <td>ARCA biopharma Inc.</td>\n    </tr>\n    <tr>\n      <th>2</th>\n      <td>ABUS</td>\n      <td>Arbutus Biopharma Corporation</td>\n    </tr>\n    <tr>\n      <th>3</th>\n      <td>ACAD</td>\n      <td>ACADIA Pharmaceuticals Inc.</td>\n    </tr>\n    <tr>\n      <th>4</th>\n      <td>ACER</td>\n      <td>Acer Therapeutics Inc.</td>\n    </tr>\n  </tbody>\n</table>\n</div>"
     },
     "execution_count": 3,
     "metadata": {},
     "output_type": "execute_result"
    }
   ],
   "source": [
    "companies.head()"
   ],
   "metadata": {
    "collapsed": false,
    "pycharm": {
     "name": "#%%\n"
    }
   }
  },
  {
   "cell_type": "code",
   "execution_count": 4,
   "outputs": [
    {
     "name": "stdout",
     "output_type": "stream",
     "text": [
      "<class 'pandas.core.frame.DataFrame'>\n",
      "RangeIndex: 491 entries, 0 to 490\n",
      "Data columns (total 2 columns):\n",
      " #   Column        Non-Null Count  Dtype \n",
      "---  ------        --------------  ----- \n",
      " 0   ticker        491 non-null    object\n",
      " 1   company name  491 non-null    object\n",
      "dtypes: object(2)\n",
      "memory usage: 7.8+ KB\n"
     ]
    }
   ],
   "source": [
    "companies.info()"
   ],
   "metadata": {
    "collapsed": false,
    "pycharm": {
     "name": "#%%\n"
    }
   }
  },
  {
   "cell_type": "markdown",
   "source": [
    "As can be seen, there are **491** companies whose historical data will be retrieved."
   ],
   "metadata": {
    "collapsed": false,
    "pycharm": {
     "name": "#%% md\n"
    }
   }
  },
  {
   "cell_type": "markdown",
   "source": [
    "## Data Source 1: Yahoo Finance"
   ],
   "metadata": {
    "collapsed": false,
    "pycharm": {
     "name": "#%% md\n"
    }
   }
  },
  {
   "cell_type": "code",
   "execution_count": 5,
   "outputs": [
    {
     "name": "stdout",
     "output_type": "stream",
     "text": [
      "[*********************100%***********************]  491 of 491 completed\n",
      "\n",
      "118 Failed downloads:\n",
      "- SBPH: No data found, symbol may be delisted\n",
      "- REPH: No data found, symbol may be delisted\n",
      "- MYOK: No data found, symbol may be delisted\n",
      "- CHMA: No data found, symbol may be delisted\n",
      "- CTRV: No data found, symbol may be delisted\n",
      "- SNNA: No data found, symbol may be delisted\n",
      "- EIDX: No data found, symbol may be delisted\n",
      "- FTSV: No data found, symbol may be delisted\n",
      "- THOR: No data found, symbol may be delisted\n",
      "- CERC: No data found, symbol may be delisted\n",
      "- PTLA: No data found, symbol may be delisted\n",
      "- HSGX: No data found, symbol may be delisted\n",
      "- GNMX: No data found, symbol may be delisted\n",
      "- MNLO: No data found, symbol may be delisted\n",
      "- RARX: No data found, symbol may be delisted\n",
      "- SNSS: No data found, symbol may be delisted\n",
      "- ADRO: No data found, symbol may be delisted\n",
      "- CNAT: No data found, symbol may be delisted\n",
      "- PGNX: No data found, symbol may be delisted\n",
      "- PRNB: No data found, symbol may be delisted\n",
      "- TTPH: No data found, symbol may be delisted\n",
      "- TOCA: No data found, symbol may be delisted\n",
      "- ARQL: No data found, symbol may be delisted\n",
      "- AIMT: No data found, symbol may be delisted\n",
      "- BFRA: No data found, symbol may be delisted\n",
      "- RNN: No data found, symbol may be delisted\n",
      "- CBM: No data found, symbol may be delisted\n",
      "- HEB: No data found, symbol may be delisted\n",
      "- CATB: No data found, symbol may be delisted\n",
      "- KTOV: No data found, symbol may be delisted\n",
      "- NK: No data found, symbol may be delisted\n",
      "- FLKS: No data found, symbol may be delisted\n",
      "- SBOT: No data found, symbol may be delisted\n",
      "- STML: No data found, symbol may be delisted\n",
      "- HTBX: No data found, symbol may be delisted\n",
      "- ARPO: No data found, symbol may be delisted\n",
      "- ODT: No data found, symbol may be delisted\n",
      "- DMPI: No data found, symbol may be delisted\n",
      "- UMRX: No data found, symbol may be delisted\n",
      "- AMAG: No data found, symbol may be delisted\n",
      "- APOP: No data found, symbol may be delisted\n",
      "- NLNK: No data found, symbol may be delisted\n",
      "- OSMT: No data found, symbol may be delisted\n",
      "- DRNA: No data found, symbol may be delisted\n",
      "- NTEC: No data found, symbol may be delisted\n",
      "- SPHS: No data found, symbol may be delisted\n",
      "- AZRX: No data found, symbol may be delisted\n",
      "- APHB: No data found, symbol may be delisted\n",
      "- NITE: No data found, symbol may be delisted\n",
      "- CBPO: No data found, symbol may be delisted\n",
      "- VTL: No data found, symbol may be delisted\n",
      "- BSTC: No data found, symbol may be delisted\n",
      "- IMMU: No data found, symbol may be delisted\n",
      "- PRTO: No data found, symbol may be delisted\n",
      "- MLNT: No data found, symbol may be delisted\n",
      "- PRAN: No data found, symbol may be delisted\n",
      "- GEMP: No data found, symbol may be delisted\n",
      "- FOMX: No data found, symbol may be delisted\n",
      "- CYTX: No data found, symbol may be delisted\n",
      "- EYEG: No data found, symbol may be delisted\n",
      "- CELG: No data found, symbol may be delisted\n",
      "- OSIR: No data found, symbol may be delisted\n",
      "- ARNA: No data found, symbol may be delisted\n",
      "- AKCA: No data found, symbol may be delisted\n",
      "- TBIO: No data found, symbol may be delisted\n",
      "- FPRX: No data found, symbol may be delisted\n",
      "- TORC: No data found, symbol may be delisted\n",
      "- ZFGN: No data found, symbol may be delisted\n",
      "- OMED: No data found, symbol may be delisted\n",
      "- UROV: No data found, symbol may be delisted\n",
      "- PDLI: No data found, symbol may be delisted\n",
      "- KDMN: No data found, symbol may be delisted\n",
      "- CBLI: No data found, symbol may be delisted\n",
      "- XON: No data found, symbol may be delisted\n",
      "- XLRN: No data found, symbol may be delisted\n",
      "- IPCI: No data found, symbol may be delisted\n",
      "- VVUS: No data found, symbol may be delisted\n",
      "- DOVA: No data found, symbol may be delisted\n",
      "- CNST: No data found, symbol may be delisted\n",
      "- TLC: No data found, symbol may be delisted\n",
      "- ALXN: No data found, symbol may be delisted\n",
      "- MTFB: No data found, symbol may be delisted\n",
      "- NTGN: No data found, symbol may be delisted\n",
      "- ZIOP: No data found, symbol may be delisted\n",
      "- TRIL: No data found, symbol may be delisted\n",
      "- TRPX: No data found, symbol may be delisted\n",
      "- AKAO: No data found, symbol may be delisted\n",
      "- EARS: No data found, symbol may be delisted\n",
      "- INSY: No data found, symbol may be delisted\n",
      "- CBMG: No data found, symbol may be delisted\n",
      "- NVLN: No data found, symbol may be delisted\n",
      "- NVUS: No data found, symbol may be delisted\n",
      "- KIN: No data found, symbol may be delisted\n",
      "- PTIE: No data found, symbol may be delisted\n",
      "- RLM: No data found, symbol may be delisted\n",
      "- RTTR: No data found, symbol may be delisted\n",
      "- MLND: No data found, symbol may be delisted\n",
      "- ALDR: No data found, symbol may be delisted\n",
      "- BPMX: No data found, symbol may be delisted\n",
      "- VICL: No data found, symbol may be delisted\n",
      "- CMTA: No data found, symbol may be delisted\n",
      "- ORPN: No data found, symbol may be delisted\n",
      "- PTI: No data found, symbol may be delisted\n",
      "- PETX: No data found, symbol may be delisted\n",
      "- GTXI: No data found, symbol may be delisted\n",
      "- BOLD: No data found, symbol may be delisted\n",
      "- IMDZ: No data found, symbol may be delisted\n",
      "- NTRP: No data found, symbol may be delisted\n",
      "- EDGE: No data found, symbol may be delisted\n",
      "- OPHT: No data found, symbol may be delisted\n",
      "- SBBP: No data found, symbol may be delisted\n",
      "- INNT: No data found, symbol may be delisted\n",
      "- ONCE: No data found, symbol may be delisted\n",
      "- CUR: No data found, symbol may be delisted\n",
      "- LOXO: No data found, symbol may be delisted\n",
      "- OHRP: No data found, symbol may be delisted\n",
      "- PFNX: No data found, symbol may be delisted\n",
      "- AST: No data found, symbol may be delisted\n"
     ]
    }
   ],
   "source": [
    "period = '5y'\n",
    "symbols = companies['ticker']\n",
    "def get_historical_data_from_yf(symbols, period):\n",
    "\n",
    "    data = yf.download(list(symbols), period=period)\n",
    "    return data\n",
    "\n",
    "yf_data = get_historical_data_from_yf(symbols, period)"
   ],
   "metadata": {
    "collapsed": false,
    "pycharm": {
     "name": "#%%\n"
    }
   }
  },
  {
   "cell_type": "markdown",
   "source": [
    "Data retrieved from Yahoo Finance is incomplete. 113 companies of the initial 491 do not have any data recorded."
   ],
   "metadata": {
    "collapsed": false,
    "pycharm": {
     "name": "#%% md\n"
    }
   }
  },
  {
   "cell_type": "code",
   "execution_count": 6,
   "outputs": [
    {
     "data": {
      "text/plain": "                ABEO                                              ABIO  \\\n           Adj Close   Close    High     Low    Open Volume  Adj Close   \nDate                                                                     \n2018-10-04    285.75  285.75  298.25  282.50  297.00  21920  12.420000   \n2018-10-05    288.50  288.50  296.25  277.00  286.75  15192  11.880000   \n2018-10-08    277.75  277.75  292.50  271.25  288.00  25248  11.700000   \n2018-10-09    269.25  269.25  282.75  267.25  276.25  27952  11.160000   \n2018-10-10    250.75  250.75  269.25  241.50  268.50  43232  10.620000   \n...              ...     ...     ...     ...     ...    ...        ...   \n2018-09-27    325.00  325.00  331.25  321.25  326.25  11152   9.720000   \n2018-09-28    320.00  320.00  326.25  318.25  325.00  14180  10.080000   \n2018-10-01    314.00  314.00  325.50  313.50  320.25  19080  18.360001   \n2018-10-02    291.50  291.50  317.50  283.50  313.50  41560  11.880000   \n2018-10-03    297.50  297.50  299.50  284.50  292.50  20864  12.420000   \n\n                                     ...       ZYME                        \\\n                Close   High    Low  ...       High    Low   Open  Volume   \nDate                                 ...                                    \n2018-10-04  12.420000  13.50  11.88  ...  14.940000  14.10  14.77  115900   \n2018-10-05  11.880000  13.14  11.16  ...  14.510000  13.24  14.46   79600   \n2018-10-08  11.700000  11.88  11.16  ...  13.800000  13.10  13.66   49600   \n2018-10-09  11.160000  11.52  10.80  ...  13.770000  13.13  13.15   60700   \n2018-10-10  10.620000  10.98  10.44  ...  13.629000  13.00  13.48  127200   \n...               ...    ...    ...  ...        ...    ...    ...     ...   \n2018-09-27   9.720000  10.08   9.54  ...  16.014999  15.68  15.90   43800   \n2018-09-28  10.080000  10.26   9.54  ...  15.890000  15.50  15.69   57300   \n2018-10-01  18.360001  18.90  10.44  ...  15.730000  15.01  15.73   92500   \n2018-10-02  11.880000  15.30  10.62  ...  15.400000  14.90  15.37   88400   \n2018-10-03  12.420000  14.40  10.80  ...  15.080000  14.55  14.97   69000   \n\n                ZYNE                                    \n           Adj Close  Close  High    Low  Open  Volume  \nDate                                                    \n2018-10-04     7.535  7.535  7.87  7.342  7.84  365600  \n2018-10-05     7.700  7.700  8.03  7.434  7.56  379800  \n2018-10-08     7.350  7.350  7.68  7.340  7.67  227500  \n2018-10-09     7.590  7.590  7.75  7.350  7.39  264700  \n2018-10-10     7.000  7.000  7.67  7.000  7.58  415500  \n...              ...    ...   ...    ...   ...     ...  \n2018-09-27     7.840  7.840  8.34  7.420  8.34  747200  \n2018-09-28     8.160  8.160  8.24  8.000  8.01  374500  \n2018-10-01     7.860  7.860  8.40  7.800  8.32  394600  \n2018-10-02     7.810  7.810  7.90  7.460  7.88  459600  \n2018-10-03     7.910  7.910  7.94  7.360  7.85  436000  \n\n[1259 rows x 2946 columns]",
      "text/html": "<div>\n<style scoped>\n    .dataframe tbody tr th:only-of-type {\n        vertical-align: middle;\n    }\n\n    .dataframe tbody tr th {\n        vertical-align: top;\n    }\n\n    .dataframe thead tr th {\n        text-align: left;\n    }\n\n    .dataframe thead tr:last-of-type th {\n        text-align: right;\n    }\n</style>\n<table border=\"1\" class=\"dataframe\">\n  <thead>\n    <tr>\n      <th></th>\n      <th colspan=\"6\" halign=\"left\">ABEO</th>\n      <th colspan=\"4\" halign=\"left\">ABIO</th>\n      <th>...</th>\n      <th colspan=\"4\" halign=\"left\">ZYME</th>\n      <th colspan=\"6\" halign=\"left\">ZYNE</th>\n    </tr>\n    <tr>\n      <th></th>\n      <th>Adj Close</th>\n      <th>Close</th>\n      <th>High</th>\n      <th>Low</th>\n      <th>Open</th>\n      <th>Volume</th>\n      <th>Adj Close</th>\n      <th>Close</th>\n      <th>High</th>\n      <th>Low</th>\n      <th>...</th>\n      <th>High</th>\n      <th>Low</th>\n      <th>Open</th>\n      <th>Volume</th>\n      <th>Adj Close</th>\n      <th>Close</th>\n      <th>High</th>\n      <th>Low</th>\n      <th>Open</th>\n      <th>Volume</th>\n    </tr>\n    <tr>\n      <th>Date</th>\n      <th></th>\n      <th></th>\n      <th></th>\n      <th></th>\n      <th></th>\n      <th></th>\n      <th></th>\n      <th></th>\n      <th></th>\n      <th></th>\n      <th></th>\n      <th></th>\n      <th></th>\n      <th></th>\n      <th></th>\n      <th></th>\n      <th></th>\n      <th></th>\n      <th></th>\n      <th></th>\n      <th></th>\n    </tr>\n  </thead>\n  <tbody>\n    <tr>\n      <th>2018-10-04</th>\n      <td>285.75</td>\n      <td>285.75</td>\n      <td>298.25</td>\n      <td>282.50</td>\n      <td>297.00</td>\n      <td>21920</td>\n      <td>12.420000</td>\n      <td>12.420000</td>\n      <td>13.50</td>\n      <td>11.88</td>\n      <td>...</td>\n      <td>14.940000</td>\n      <td>14.10</td>\n      <td>14.77</td>\n      <td>115900</td>\n      <td>7.535</td>\n      <td>7.535</td>\n      <td>7.87</td>\n      <td>7.342</td>\n      <td>7.84</td>\n      <td>365600</td>\n    </tr>\n    <tr>\n      <th>2018-10-05</th>\n      <td>288.50</td>\n      <td>288.50</td>\n      <td>296.25</td>\n      <td>277.00</td>\n      <td>286.75</td>\n      <td>15192</td>\n      <td>11.880000</td>\n      <td>11.880000</td>\n      <td>13.14</td>\n      <td>11.16</td>\n      <td>...</td>\n      <td>14.510000</td>\n      <td>13.24</td>\n      <td>14.46</td>\n      <td>79600</td>\n      <td>7.700</td>\n      <td>7.700</td>\n      <td>8.03</td>\n      <td>7.434</td>\n      <td>7.56</td>\n      <td>379800</td>\n    </tr>\n    <tr>\n      <th>2018-10-08</th>\n      <td>277.75</td>\n      <td>277.75</td>\n      <td>292.50</td>\n      <td>271.25</td>\n      <td>288.00</td>\n      <td>25248</td>\n      <td>11.700000</td>\n      <td>11.700000</td>\n      <td>11.88</td>\n      <td>11.16</td>\n      <td>...</td>\n      <td>13.800000</td>\n      <td>13.10</td>\n      <td>13.66</td>\n      <td>49600</td>\n      <td>7.350</td>\n      <td>7.350</td>\n      <td>7.68</td>\n      <td>7.340</td>\n      <td>7.67</td>\n      <td>227500</td>\n    </tr>\n    <tr>\n      <th>2018-10-09</th>\n      <td>269.25</td>\n      <td>269.25</td>\n      <td>282.75</td>\n      <td>267.25</td>\n      <td>276.25</td>\n      <td>27952</td>\n      <td>11.160000</td>\n      <td>11.160000</td>\n      <td>11.52</td>\n      <td>10.80</td>\n      <td>...</td>\n      <td>13.770000</td>\n      <td>13.13</td>\n      <td>13.15</td>\n      <td>60700</td>\n      <td>7.590</td>\n      <td>7.590</td>\n      <td>7.75</td>\n      <td>7.350</td>\n      <td>7.39</td>\n      <td>264700</td>\n    </tr>\n    <tr>\n      <th>2018-10-10</th>\n      <td>250.75</td>\n      <td>250.75</td>\n      <td>269.25</td>\n      <td>241.50</td>\n      <td>268.50</td>\n      <td>43232</td>\n      <td>10.620000</td>\n      <td>10.620000</td>\n      <td>10.98</td>\n      <td>10.44</td>\n      <td>...</td>\n      <td>13.629000</td>\n      <td>13.00</td>\n      <td>13.48</td>\n      <td>127200</td>\n      <td>7.000</td>\n      <td>7.000</td>\n      <td>7.67</td>\n      <td>7.000</td>\n      <td>7.58</td>\n      <td>415500</td>\n    </tr>\n    <tr>\n      <th>...</th>\n      <td>...</td>\n      <td>...</td>\n      <td>...</td>\n      <td>...</td>\n      <td>...</td>\n      <td>...</td>\n      <td>...</td>\n      <td>...</td>\n      <td>...</td>\n      <td>...</td>\n      <td>...</td>\n      <td>...</td>\n      <td>...</td>\n      <td>...</td>\n      <td>...</td>\n      <td>...</td>\n      <td>...</td>\n      <td>...</td>\n      <td>...</td>\n      <td>...</td>\n      <td>...</td>\n    </tr>\n    <tr>\n      <th>2018-09-27</th>\n      <td>325.00</td>\n      <td>325.00</td>\n      <td>331.25</td>\n      <td>321.25</td>\n      <td>326.25</td>\n      <td>11152</td>\n      <td>9.720000</td>\n      <td>9.720000</td>\n      <td>10.08</td>\n      <td>9.54</td>\n      <td>...</td>\n      <td>16.014999</td>\n      <td>15.68</td>\n      <td>15.90</td>\n      <td>43800</td>\n      <td>7.840</td>\n      <td>7.840</td>\n      <td>8.34</td>\n      <td>7.420</td>\n      <td>8.34</td>\n      <td>747200</td>\n    </tr>\n    <tr>\n      <th>2018-09-28</th>\n      <td>320.00</td>\n      <td>320.00</td>\n      <td>326.25</td>\n      <td>318.25</td>\n      <td>325.00</td>\n      <td>14180</td>\n      <td>10.080000</td>\n      <td>10.080000</td>\n      <td>10.26</td>\n      <td>9.54</td>\n      <td>...</td>\n      <td>15.890000</td>\n      <td>15.50</td>\n      <td>15.69</td>\n      <td>57300</td>\n      <td>8.160</td>\n      <td>8.160</td>\n      <td>8.24</td>\n      <td>8.000</td>\n      <td>8.01</td>\n      <td>374500</td>\n    </tr>\n    <tr>\n      <th>2018-10-01</th>\n      <td>314.00</td>\n      <td>314.00</td>\n      <td>325.50</td>\n      <td>313.50</td>\n      <td>320.25</td>\n      <td>19080</td>\n      <td>18.360001</td>\n      <td>18.360001</td>\n      <td>18.90</td>\n      <td>10.44</td>\n      <td>...</td>\n      <td>15.730000</td>\n      <td>15.01</td>\n      <td>15.73</td>\n      <td>92500</td>\n      <td>7.860</td>\n      <td>7.860</td>\n      <td>8.40</td>\n      <td>7.800</td>\n      <td>8.32</td>\n      <td>394600</td>\n    </tr>\n    <tr>\n      <th>2018-10-02</th>\n      <td>291.50</td>\n      <td>291.50</td>\n      <td>317.50</td>\n      <td>283.50</td>\n      <td>313.50</td>\n      <td>41560</td>\n      <td>11.880000</td>\n      <td>11.880000</td>\n      <td>15.30</td>\n      <td>10.62</td>\n      <td>...</td>\n      <td>15.400000</td>\n      <td>14.90</td>\n      <td>15.37</td>\n      <td>88400</td>\n      <td>7.810</td>\n      <td>7.810</td>\n      <td>7.90</td>\n      <td>7.460</td>\n      <td>7.88</td>\n      <td>459600</td>\n    </tr>\n    <tr>\n      <th>2018-10-03</th>\n      <td>297.50</td>\n      <td>297.50</td>\n      <td>299.50</td>\n      <td>284.50</td>\n      <td>292.50</td>\n      <td>20864</td>\n      <td>12.420000</td>\n      <td>12.420000</td>\n      <td>14.40</td>\n      <td>10.80</td>\n      <td>...</td>\n      <td>15.080000</td>\n      <td>14.55</td>\n      <td>14.97</td>\n      <td>69000</td>\n      <td>7.910</td>\n      <td>7.910</td>\n      <td>7.94</td>\n      <td>7.360</td>\n      <td>7.85</td>\n      <td>436000</td>\n    </tr>\n  </tbody>\n</table>\n<p>1259 rows × 2946 columns</p>\n</div>"
     },
     "execution_count": 6,
     "metadata": {},
     "output_type": "execute_result"
    }
   ],
   "source": [
    "yf_data.swaplevel(axis=1).sort_index(axis=1)"
   ],
   "metadata": {
    "collapsed": false,
    "pycharm": {
     "name": "#%%\n"
    }
   }
  },
  {
   "cell_type": "markdown",
   "source": [
    "## Data Source 2: IEX Cloud\n",
    "This method will not be applicable in this case. However, if you have access to a premium account on IEX Cloud, you can uncomment the lines and retrieve data."
   ],
   "metadata": {
    "collapsed": false,
    "pycharm": {
     "name": "#%% md\n"
    }
   }
  },
  {
   "cell_type": "code",
   "execution_count": 7,
   "outputs": [],
   "source": [
    "def get_tasks(session, symbols, api_key, url):\n",
    "    tasks = []\n",
    "    for ticker in symbols:\n",
    "        api_url = url.format(ticker, api_key)\n",
    "        coroutine = session.get(api_url, ssl=False)\n",
    "        tasks.append(asyncio.create_task(coroutine))\n",
    "    return tasks"
   ],
   "metadata": {
    "collapsed": false,
    "pycharm": {
     "name": "#%%\n"
    }
   }
  },
  {
   "cell_type": "code",
   "execution_count": 8,
   "outputs": [],
   "source": [
    "async def get_symbols(symbols, iex_api_key, url):\n",
    "    results = []\n",
    "    async with aiohttp.ClientSession() as session:\n",
    "        tasks = get_tasks(session, symbols, iex_api_key, url)\n",
    "        responses = await asyncio.gather(*tasks)\n",
    "        for response in responses:\n",
    "            results.append(await response.json())\n",
    "    return results"
   ],
   "metadata": {
    "collapsed": false,
    "pycharm": {
     "name": "#%%\n"
    }
   }
  },
  {
   "cell_type": "code",
   "execution_count": 9,
   "outputs": [],
   "source": [
    "def get_historical_data_from_iexcloud(symbols, start, end, iex_api_key):\n",
    "\n",
    "    companies = dict()\n",
    "    for symbol in symbols:\n",
    "        data = get_historical_data(symbol, start, end, output_format='pandas', token=iex_api_key)\n",
    "        companies[symbol] = data\n",
    "    return companies"
   ],
   "metadata": {
    "collapsed": false,
    "pycharm": {
     "name": "#%%\n"
    }
   }
  },
  {
   "cell_type": "code",
   "execution_count": 10,
   "outputs": [],
   "source": [
    "# Publishable key\n",
    "iex_api_key = 'pk_7214effdee6e4e31b49afe88989d1f46'\n",
    "historical_data_url = 'https://cloud.iexapis.com/stable/stock/{}/chart/max?token={}'"
   ],
   "metadata": {
    "collapsed": false,
    "pycharm": {
     "name": "#%%\n"
    }
   }
  },
  {
   "cell_type": "code",
   "execution_count": 11,
   "outputs": [],
   "source": [
    "start = yf_data.index[0]\n",
    "end = yf_data.index[-1]\n",
    "start = datetime(start.year, start.month, start.day)\n",
    "end = datetime(end.year, end.month, end.day)"
   ],
   "metadata": {
    "collapsed": false,
    "pycharm": {
     "name": "#%%\n"
    }
   }
  },
  {
   "cell_type": "code",
   "execution_count": 12,
   "outputs": [],
   "source": [
    "# Caution: In order to retrieve all the data make sure you are using a key that belongs to a premium account\n",
    "# After entering the key, uncomment the line below\n",
    "\n",
    "# historic_data = pd.DataFrame(asyncio.run(get_symbols(symbols, iex_api_key, historical_data_url)))\n",
    "# historical_data = get_historical_data_from_iexcloud(symbols, start, end, iex_api_key)"
   ],
   "metadata": {
    "collapsed": false,
    "pycharm": {
     "name": "#%%\n"
    }
   }
  },
  {
   "cell_type": "code",
   "execution_count": 12,
   "outputs": [],
   "source": [],
   "metadata": {
    "collapsed": false,
    "pycharm": {
     "name": "#%%\n"
    }
   }
  }
 ],
 "metadata": {
  "kernelspec": {
   "display_name": "Python 3",
   "language": "python",
   "name": "python3"
  },
  "language_info": {
   "codemirror_mode": {
    "name": "ipython",
    "version": 2
   },
   "file_extension": ".py",
   "mimetype": "text/x-python",
   "name": "python",
   "nbconvert_exporter": "python",
   "pygments_lexer": "ipython2",
   "version": "2.7.6"
  }
 },
 "nbformat": 4,
 "nbformat_minor": 0
}